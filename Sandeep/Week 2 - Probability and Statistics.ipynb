{
 "cells": [
  {
   "cell_type": "markdown",
   "metadata": {},
   "source": [
    "### Basic moments of one-dimensional data"
   ]
  },
  {
   "cell_type": "raw",
   "metadata": {},
   "source": [
    "Implement functions to compute median, mode, sample mean, sample variance, standard deviation of one-dimensional data \"without using numpy\"\n",
    "\n",
    "Example :\n",
    "data1 = np.array([1,2,3,4,5])\n",
    "data1_median = median(data1)\n",
    "data1_mode = mode(data1)\n",
    "data1_mean = mean(data1)\n",
    "data1_variance = variance(data1)\n",
    "data1_stddev = stddev(data1)"
   ]
  },
  {
   "cell_type": "code",
   "execution_count": 55,
   "metadata": {},
   "outputs": [],
   "source": [
    "# Import modules\n",
    "import pandas as pd\n",
    "import numpy as np\n",
    "from scipy import stats\n",
    "import math"
   ]
  },
  {
   "cell_type": "code",
   "execution_count": 6,
   "metadata": {},
   "outputs": [],
   "source": [
    "def median(data):\n",
    "    data_array = data.values\n",
    "    sorted_data = sorted(data_array)\n",
    "    if len(sorted_data)%2 != 0:\n",
    "        n = int((len(sorted_data) + 1)/2)\n",
    "        median = sorted_data[n-1]\n",
    "    else:\n",
    "        n1 = int(len(sorted_data)/2)\n",
    "        n2 = int(len(sorted_data)/2 + 1)\n",
    "        median = (sorted_data[n1-1] + sorted_data[n2-1])/2\n",
    "    return median"
   ]
  },
  {
   "cell_type": "code",
   "execution_count": 37,
   "metadata": {},
   "outputs": [],
   "source": [
    "def mode(data):\n",
    "    data_array = data.values\n",
    "    mode = stats.mode(data_array)\n",
    "    return mode"
   ]
  },
  {
   "cell_type": "code",
   "execution_count": 42,
   "metadata": {},
   "outputs": [],
   "source": [
    "def mean(data):\n",
    "    data_array = data.values\n",
    "    n = len(data_array)\n",
    "    summation = 0\n",
    "    for i in data_array:\n",
    "        summation += i\n",
    "    mean = summation/n\n",
    "    return mean "
   ]
  },
  {
   "cell_type": "code",
   "execution_count": 51,
   "metadata": {},
   "outputs": [],
   "source": [
    "def sample_variance(data):\n",
    "    data_array = data.values\n",
    "    n = len(data_array)\n",
    "    mean_array = mean(data)\n",
    "    summation = 0\n",
    "    for i in data_array:\n",
    "        summation += (i - mean_array)**2\n",
    "    sample_variance = summation/(n-1)\n",
    "    return sample_variance"
   ]
  },
  {
   "cell_type": "code",
   "execution_count": 56,
   "metadata": {},
   "outputs": [],
   "source": [
    "def standard_deviation(data):\n",
    "    data_array = data.values\n",
    "    n = len(data_array)\n",
    "    mean_array = mean(data)\n",
    "    summation = 0\n",
    "    for i in data_array:\n",
    "        summation += (i - mean_array)**2\n",
    "    variance = summation/(n)\n",
    "    std_dev = math.sqrt(variance)\n",
    "    return std_dev"
   ]
  },
  {
   "cell_type": "code",
   "execution_count": 11,
   "metadata": {},
   "outputs": [],
   "source": [
    "data1 = pd.read_csv('data1.txt', header = None)\n",
    "data2 = pd.read_csv('data2.txt', header = None)\n",
    "data3 = pd.read_csv('data3.txt', header = None)\n",
    "data4 = pd.read_csv('data4.txt', header = None)\n",
    "data5 = pd.read_csv('data5.txt', header = None)"
   ]
  },
  {
   "cell_type": "code",
   "execution_count": 38,
   "metadata": {},
   "outputs": [],
   "source": [
    "# For mode\n",
    "sorted_data = data1[0].tolist()\n",
    "counter = []\n",
    "for i in sorted_data:\n",
    "    count = sorted_data.count(i)\n",
    "    counter += [count]"
   ]
  },
  {
   "cell_type": "raw",
   "metadata": {},
   "source": [
    "Compute the above for different one-dimensional datasets - data1.txt, data2.txt, data3.txt, data4.txt and store as data1_median, data2_median etc. "
   ]
  },
  {
   "cell_type": "code",
   "execution_count": 59,
   "metadata": {},
   "outputs": [],
   "source": [
    "data1_median = median(data1)\n",
    "data2_median = median(data2)\n",
    "data3_median = median(data3)\n",
    "data4_median = median(data4)\n",
    "data5_median = median(data5)"
   ]
  },
  {
   "cell_type": "code",
   "execution_count": 60,
   "metadata": {},
   "outputs": [],
   "source": [
    "data1_mean = mean(data1)\n",
    "data2_mean = mean(data2)\n",
    "data3_mean = mean(data3)\n",
    "data4_mean = mean(data4)\n",
    "data5_mean = mean(data5)"
   ]
  },
  {
   "cell_type": "code",
   "execution_count": 61,
   "metadata": {},
   "outputs": [],
   "source": [
    "data1_mode = mode(data1)\n",
    "data2_mode = mode(data2)\n",
    "data3_mode = mode(data3)\n",
    "data4_mode = mode(data4)\n",
    "data5_mode = mode(data5)"
   ]
  },
  {
   "cell_type": "code",
   "execution_count": 64,
   "metadata": {},
   "outputs": [],
   "source": [
    "data1_sample_variance = sample_variance(data1)\n",
    "data2_sample_variance = sample_variance(data2)\n",
    "data3_sample_variance = sample_variance(data3)\n",
    "data4_sample_variance = sample_variance(data4)\n",
    "data5_sample_variance = sample_variance(data5)"
   ]
  },
  {
   "cell_type": "code",
   "execution_count": 66,
   "metadata": {},
   "outputs": [],
   "source": [
    "data1_standard_deviation = standard_deviation(data1)\n",
    "data2_standard_deviation = standard_deviation(data2)\n",
    "data3_standard_deviation = standard_deviation(data3)\n",
    "data4_standard_deviation = standard_deviation(data4)\n",
    "data5_standard_deviation = standard_deviation(data5)"
   ]
  },
  {
   "cell_type": "raw",
   "metadata": {},
   "source": [
    "Visualize all the datasets (1-4) separately using matplotlib scatter plot and histograms. \n",
    "\n",
    "1. Comment on initial observations of distributions. \n",
    "\n",
    "2. For each dataset, specify which descriptive statistics best describe the data.\n",
    "\n",
    "Example :\n",
    "data1 - mean\n",
    "data2 - mean\n",
    "data3 - mean\n",
    "data4 - mean"
   ]
  },
  {
   "cell_type": "code",
   "execution_count": 67,
   "metadata": {},
   "outputs": [],
   "source": [
    "import matplotlib.pyplot as plt"
   ]
  },
  {
   "cell_type": "code",
   "execution_count": 84,
   "metadata": {},
   "outputs": [],
   "source": [
    "def plot(data):\n",
    "    plt.scatter(data, [0]*len(data))\n",
    "def histogram(data):\n",
    "    n_bins = 20\n",
    "    plt.hist(data)"
   ]
  },
  {
   "cell_type": "code",
   "execution_count": 82,
   "metadata": {},
   "outputs": [
    {
     "data": {
      "image/png": "[encoded data removed]",
      "text/plain": [
       "<Figure size 432x288 with 1 Axes>"
      ]
     },
     "metadata": {
      "needs_background": "light"
     },
     "output_type": "display_data"
    }
   ],
   "source": [
    "plot(data1)"
   ]
  },
  {
   "cell_type": "code",
   "execution_count": 194,
   "metadata": {},
   "outputs": [
    {
     "name": "stdout",
     "output_type": "stream",
     "text": [
      "[0.05060122]\n",
      "1.9574524154947086\n"
     ]
    },
    {
     "data": {
      "image/png": "[encoded data removed]",
      "text/plain": [
       "<Figure size 432x288 with 1 Axes>"
      ]
     },
     "metadata": {
      "needs_background": "light"
     },
     "output_type": "display_data"
    }
   ],
   "source": [
    "plt.hist(data1.values, bins = 30)\n",
    "print(median(data1))\n",
    "print(standard_deviation(data1))"
   ]
  },
  {
   "cell_type": "code",
   "execution_count": 75,
   "metadata": {},
   "outputs": [
    {
     "data": {
      "image/png": "[encoded data removed]",
      "text/plain": [
       "<Figure size 432x288 with 1 Axes>"
      ]
     },
     "metadata": {
      "needs_background": "light"
     },
     "output_type": "display_data"
    }
   ],
   "source": [
    "plot(data2)"
   ]
  },
  {
   "cell_type": "code",
   "execution_count": 87,
   "metadata": {},
   "outputs": [
    {
     "data": {
      "image/png": "[encoded data removed]",
      "text/plain": [
       "<Figure size 432x288 with 1 Axes>"
      ]
     },
     "metadata": {
      "needs_background": "light"
     },
     "output_type": "display_data"
    }
   ],
   "source": [
    "histogram(data2.values)"
   ]
  },
  {
   "cell_type": "code",
   "execution_count": 76,
   "metadata": {},
   "outputs": [
    {
     "data": {
      "image/png": "[encoded data removed]",
      "text/plain": [
       "<Figure size 432x288 with 1 Axes>"
      ]
     },
     "metadata": {
      "needs_background": "light"
     },
     "output_type": "display_data"
    }
   ],
   "source": [
    "plot(data3)"
   ]
  },
  {
   "cell_type": "code",
   "execution_count": 170,
   "metadata": {},
   "outputs": [
    {
     "data": {
      "text/plain": [
       "(array([ 1.,  0.,  1.,  1.,  0.,  0.,  0.,  0.,  0.,  0.,  1.,  0.,  0.,\n",
       "         0.,  0.,  0.,  0.,  0.,  0.,  0.,  0.,  0.,  0.,  1.,  0.,  0.,\n",
       "         0.,  0.,  0., 97., 73., 71., 91., 96., 81., 80., 80., 92., 83.,\n",
       "        79., 77.,  0.,  1.,  0.,  0.,  0.,  0.,  0.,  0.,  1.,  0.,  1.,\n",
       "         0.,  0.,  0.,  0.,  1.,  0.,  0.,  1.]),\n",
       " array([-2.44972169, -2.36543251, -2.28114333, -2.19685415, -2.11256497,\n",
       "        -2.02827579, -1.94398661, -1.85969743, -1.77540825, -1.69111907,\n",
       "        -1.60682989, -1.52254071, -1.43825153, -1.35396235, -1.26967317,\n",
       "        -1.18538399, -1.10109481, -1.01680563, -0.93251645, -0.84822727,\n",
       "        -0.76393809, -0.67964891, -0.59535973, -0.51107055, -0.42678137,\n",
       "        -0.3424922 , -0.25820302, -0.17391384, -0.08962466, -0.00533548,\n",
       "         0.0789537 ,  0.16324288,  0.24753206,  0.33182124,  0.41611042,\n",
       "         0.5003996 ,  0.58468878,  0.66897796,  0.75326714,  0.83755632,\n",
       "         0.9218455 ,  1.00613468,  1.09042386,  1.17471304,  1.25900222,\n",
       "         1.3432914 ,  1.42758058,  1.51186976,  1.59615894,  1.68044811,\n",
       "         1.76473729,  1.84902647,  1.93331565,  2.01760483,  2.10189401,\n",
       "         2.18618319,  2.27047237,  2.35476155,  2.43905073,  2.52333991,\n",
       "         2.60762909]),\n",
       " <a list of 60 Patch objects>)"
      ]
     },
     "execution_count": 170,
     "metadata": {},
     "output_type": "execute_result"
    },
    {
     "data": {
      "image/png": "[encoded data removed]",
      "text/plain": [
       "<Figure size 432x288 with 1 Axes>"
      ]
     },
     "metadata": {
      "needs_background": "light"
     },
     "output_type": "display_data"
    }
   ],
   "source": [
    "n_bins = 60\n",
    "plt.hist(data3.values, bins = n_bins)"
   ]
  },
  {
   "cell_type": "code",
   "execution_count": 77,
   "metadata": {},
   "outputs": [
    {
     "data": {
      "image/png": "[encoded data removed]",
      "text/plain": [
       "<Figure size 432x288 with 1 Axes>"
      ]
     },
     "metadata": {
      "needs_background": "light"
     },
     "output_type": "display_data"
    }
   ],
   "source": [
    "plot(data4)"
   ]
  },
  {
   "cell_type": "code",
   "execution_count": 184,
   "metadata": {},
   "outputs": [
    {
     "data": {
      "text/plain": [
       "(array([  1.,   3.,   8.,  17.,  36.,  47.,  89., 102., 123., 137., 119.,\n",
       "        123., 104.,  92.,  75., 105., 120., 152., 155., 112., 117.,  73.,\n",
       "         38.,  28.,  11.,   4.,   6.,   2.,   0.,   1.]),\n",
       " array([-9.67900036, -8.986197  , -8.29339365, -7.6005903 , -6.90778694,\n",
       "        -6.21498359, -5.52218024, -4.82937688, -4.13657353, -3.44377018,\n",
       "        -2.75096682, -2.05816347, -1.36536012, -0.67255676,  0.02024659,\n",
       "         0.71304994,  1.4058533 ,  2.09865665,  2.79146   ,  3.48426336,\n",
       "         4.17706671,  4.86987006,  5.56267342,  6.25547677,  6.94828012,\n",
       "         7.64108348,  8.33388683,  9.02669018,  9.71949354, 10.41229689,\n",
       "        11.10510024]),\n",
       " <a list of 30 Patch objects>)"
      ]
     },
     "execution_count": 184,
     "metadata": {},
     "output_type": "execute_result"
    },
    {
     "data": {
      "image/png": "[encoded data removed]",
      "text/plain": [
       "<Figure size 432x288 with 1 Axes>"
      ]
     },
     "metadata": {
      "needs_background": "light"
     },
     "output_type": "display_data"
    }
   ],
   "source": [
    "# Mixture  of gaussians are found in the distribution\n",
    "plt.hist(data4.values, bins = 30)"
   ]
  },
  {
   "cell_type": "code",
   "execution_count": 78,
   "metadata": {},
   "outputs": [
    {
     "data": {
      "image/png": "[encoded data removed]",
      "text/plain": [
       "<Figure size 432x288 with 1 Axes>"
      ]
     },
     "metadata": {
      "needs_background": "light"
     },
     "output_type": "display_data"
    }
   ],
   "source": [
    "plot(data5)"
   ]
  },
  {
   "cell_type": "code",
   "execution_count": 197,
   "metadata": {},
   "outputs": [
    {
     "name": "stdout",
     "output_type": "stream",
     "text": [
      "median is  [-0.00049745]\n",
      "standard deviation is 1356.5369135582896\n"
     ]
    },
    {
     "data": {
      "image/png": "[encoded data removed]",
      "text/plain": [
       "<Figure size 432x288 with 1 Axes>"
      ]
     },
     "metadata": {
      "needs_background": "light"
     },
     "output_type": "display_data"
    }
   ],
   "source": [
    "plt.hist(data5.values, range = (-10,10), bins = 100)\n",
    "print('median is ',median(data5))\n",
    "print('standard deviation is', standard_deviation(data5))"
   ]
  },
  {
   "cell_type": "code",
   "execution_count": null,
   "metadata": {},
   "outputs": [],
   "source": [
    "# Observations"
   ]
  },
  {
   "cell_type": "raw",
   "metadata": {},
   "source": [
    "1. For data1, It seems normal distribution. Usually normal distribution we have mean and standard deviation\n",
    "but by scatter plot we can see some outliers, so instead of mean, median might be robust\n",
    "\n",
    "2.For data2, It seems uniform distribution. and by scatter plot we can see some outliers.\n",
    "There is no central tendency for the uniform distribution as everything occurs same frequently\n",
    "\n",
    "3. For data3, It seems uniform distribution but there are outliers that you can see from the scatter plot. For\n",
    "uniform distributons, there wont be any good descriptive statistics\n",
    "\n",
    "4. For data4, it seems mixture of gaussians when you see by changing bin sizes. Mean or median of the whole is not\n",
    "a good measure of central tendency instead mode of the two distributions might be a good one. Mean of left \n",
    "is close to -3.5 and mean of right is close to 2.5. with standard deviation around 2 for botj. Here we cannot takae just one descriptive statistic.\n",
    "\n",
    "\n",
    "5. For data5, by seeing it seems a gaussian distribution but when you quantitatively"
   ]
  },
  {
   "cell_type": "raw",
   "metadata": {},
   "source": [
    "Estimate density distribution of both datasets and answer the following questions :\n",
    "1. What is the distribution of data1 and data2?\n",
    "2. What are the parameters of the distribution using MLE?"
   ]
  },
  {
   "cell_type": "code",
   "execution_count": 93,
   "metadata": {},
   "outputs": [],
   "source": [
    "# 1. Data1 distribution is Normal distribution, with mean and variance\n",
    "# MLE of mean is sample mean\n",
    "# MLE of variance is sample variance*(n-1)/n which is a biased estimator\n",
    "mean_MLE = mean(data1)\n",
    "n = len(data1)\n",
    "variance_MLE = sample_variance(data1)*(n-1)/n"
   ]
  },
  {
   "cell_type": "code",
   "execution_count": 95,
   "metadata": {},
   "outputs": [],
   "source": [
    "# 2. Data2, distribution is uniform distribution, whose parameters are max and min of the given values\n",
    "# MLE is max(data2) and min(data2). \n",
    "MLE_a = min(data2)\n",
    "MLE_b = min(data2)"
   ]
  },
  {
   "cell_type": "code",
   "execution_count": null,
   "metadata": {},
   "outputs": [],
   "source": [
    "# Observations are written above"
   ]
  },
  {
   "cell_type": "raw",
   "metadata": {},
   "source": [
    "Assuming that data1 has been sampled from normal distribution with unknown mean and standard deviation of 2, calculate 95% confidence interval of data1_mean "
   ]
  },
  {
   "cell_type": "code",
   "execution_count": 195,
   "metadata": {},
   "outputs": [
    {
     "name": "stdout",
     "output_type": "stream",
     "text": [
      "Confidence interval is [-0.08529717] <= sample_mean <= [0.1626254]\n"
     ]
    }
   ],
   "source": [
    "# -z <= z-statistic <= z\n",
    "# For 95% confidence interval z value is 1.96\n",
    "\n",
    "max_confidence_interval = (2/math.sqrt(len(data1)))*1.96 + mean(data1)\n",
    "min_confidence_interval = -(2/math.sqrt(len(data1)))*1.96 + mean(data1)\n",
    "print('Confidence interval is', min_confidence_interval,'<=','sample_mean <=', max_confidence_interval)"
   ]
  },
  {
   "cell_type": "markdown",
   "metadata": {},
   "source": [
    "### Exercise"
   ]
  },
  {
   "cell_type": "raw",
   "metadata": {},
   "source": [
    "Is the dataset data5.txt from a guassian distribution?"
   ]
  },
  {
   "cell_type": "raw",
   "metadata": {},
   "source": [
    "1. This dataset data5.txt is not from a gaussian distribution, it may seems like gaussian but see the median and standard deviation of the data and it shows different from qualitative results. So it is not gaussian"
   ]
  },
  {
   "cell_type": "markdown",
   "metadata": {},
   "source": [
    "### Feature visualisation and selection"
   ]
  },
  {
   "cell_type": "raw",
   "metadata": {},
   "source": [
    "Load the twodimdata.csv file. Comment on the following :\n",
    "1. Are the features independent, why?\n",
    "2. Can a feature be removed?"
   ]
  },
  {
   "cell_type": "code",
   "execution_count": 105,
   "metadata": {},
   "outputs": [],
   "source": [
    "two_dim_data = pd.read_csv('twodimdata.csv')"
   ]
  },
  {
   "cell_type": "code",
   "execution_count": 107,
   "metadata": {
    "scrolled": true
   },
   "outputs": [
    {
     "data": {
      "text/html": [
       "<div>\n",
       "<style scoped>\n",
       "    .dataframe tbody tr th:only-of-type {\n",
       "        vertical-align: middle;\n",
       "    }\n",
       "\n",
       "    .dataframe tbody tr th {\n",
       "        vertical-align: top;\n",
       "    }\n",
       "\n",
       "    .dataframe thead th {\n",
       "        text-align: right;\n",
       "    }\n",
       "</style>\n",
       "<table border=\"1\" class=\"dataframe\">\n",
       "  <thead>\n",
       "    <tr style=\"text-align: right;\">\n",
       "      <th></th>\n",
       "      <th>x1</th>\n",
       "      <th>x2</th>\n",
       "    </tr>\n",
       "  </thead>\n",
       "  <tbody>\n",
       "    <tr>\n",
       "      <th>0</th>\n",
       "      <td>-1.686800</td>\n",
       "      <td>0.001299</td>\n",
       "    </tr>\n",
       "    <tr>\n",
       "      <th>1</th>\n",
       "      <td>-0.715651</td>\n",
       "      <td>0.000235</td>\n",
       "    </tr>\n",
       "    <tr>\n",
       "      <th>2</th>\n",
       "      <td>-0.695645</td>\n",
       "      <td>-0.000706</td>\n",
       "    </tr>\n",
       "    <tr>\n",
       "      <th>3</th>\n",
       "      <td>-0.233415</td>\n",
       "      <td>-0.001146</td>\n",
       "    </tr>\n",
       "    <tr>\n",
       "      <th>4</th>\n",
       "      <td>-0.014929</td>\n",
       "      <td>0.002093</td>\n",
       "    </tr>\n",
       "  </tbody>\n",
       "</table>\n",
       "</div>"
      ],
      "text/plain": [
       "         x1        x2\n",
       "0 -1.686800  0.001299\n",
       "1 -0.715651  0.000235\n",
       "2 -0.695645 -0.000706\n",
       "3 -0.233415 -0.001146\n",
       "4 -0.014929  0.002093"
      ]
     },
     "execution_count": 107,
     "metadata": {},
     "output_type": "execute_result"
    }
   ],
   "source": [
    "two_dim_data.head()"
   ]
  },
  {
   "cell_type": "code",
   "execution_count": 108,
   "metadata": {},
   "outputs": [
    {
     "data": {
      "text/html": [
       "<div>\n",
       "<style scoped>\n",
       "    .dataframe tbody tr th:only-of-type {\n",
       "        vertical-align: middle;\n",
       "    }\n",
       "\n",
       "    .dataframe tbody tr th {\n",
       "        vertical-align: top;\n",
       "    }\n",
       "\n",
       "    .dataframe thead th {\n",
       "        text-align: right;\n",
       "    }\n",
       "</style>\n",
       "<table border=\"1\" class=\"dataframe\">\n",
       "  <thead>\n",
       "    <tr style=\"text-align: right;\">\n",
       "      <th></th>\n",
       "      <th>x1</th>\n",
       "      <th>x2</th>\n",
       "    </tr>\n",
       "  </thead>\n",
       "  <tbody>\n",
       "    <tr>\n",
       "      <th>x1</th>\n",
       "      <td>1.000000</td>\n",
       "      <td>-0.002033</td>\n",
       "    </tr>\n",
       "    <tr>\n",
       "      <th>x2</th>\n",
       "      <td>-0.002033</td>\n",
       "      <td>1.000000</td>\n",
       "    </tr>\n",
       "  </tbody>\n",
       "</table>\n",
       "</div>"
      ],
      "text/plain": [
       "          x1        x2\n",
       "x1  1.000000 -0.002033\n",
       "x2 -0.002033  1.000000"
      ]
     },
     "execution_count": 108,
     "metadata": {},
     "output_type": "execute_result"
    }
   ],
   "source": [
    "two_dim_data.corr(method ='pearson')"
   ]
  },
  {
   "cell_type": "raw",
   "metadata": {},
   "source": [
    "1.These are not correlated and we can see from correlation coefficient and they are almost zero. They are\n",
    "independent\n",
    "\n",
    "2. No feature can be removed as they are uncorrelated and has some information in it."
   ]
  }
 ],
 "metadata": {
  "kernelspec": {
   "display_name": "Python 3",
   "language": "python",
   "name": "python3"
  },
  "language_info": {
   "codemirror_mode": {
    "name": "ipython",
    "version": 3
   },
   "file_extension": ".py",
   "mimetype": "text/x-python",
   "name": "python",
   "nbconvert_exporter": "python",
   "pygments_lexer": "ipython3",
   "version": "3.7.3"
  }
 },
 "nbformat": 4,
 "nbformat_minor": 2
}

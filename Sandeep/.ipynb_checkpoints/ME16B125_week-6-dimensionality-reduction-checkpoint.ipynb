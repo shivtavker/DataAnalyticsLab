{
 "cells": [
  {
   "cell_type": "markdown",
   "metadata": {
    "colab_type": "text",
    "id": "MMWp3bQP-bhU"
   },
   "source": [
    "## Week 6: Dimensionality Reduction"
   ]
  },
  {
   "cell_type": "code",
   "execution_count": 1,
   "metadata": {},
   "outputs": [],
   "source": [
    "import pandas as pd\n",
    "import numpy as np\n",
    "import matplotlib.pyplot as plt"
   ]
  },
  {
   "cell_type": "markdown",
   "metadata": {
    "colab_type": "text",
    "id": "GlFINCKfoOHJ"
   },
   "source": [
    "**(1a) Load the data file 'data1.csv' and visualize the data.**"
   ]
  },
  {
   "cell_type": "code",
   "execution_count": 2,
   "metadata": {},
   "outputs": [
    {
     "data": {
      "text/html": [
       "<div>\n",
       "<style scoped>\n",
       "    .dataframe tbody tr th:only-of-type {\n",
       "        vertical-align: middle;\n",
       "    }\n",
       "\n",
       "    .dataframe tbody tr th {\n",
       "        vertical-align: top;\n",
       "    }\n",
       "\n",
       "    .dataframe thead th {\n",
       "        text-align: right;\n",
       "    }\n",
       "</style>\n",
       "<table border=\"1\" class=\"dataframe\">\n",
       "  <thead>\n",
       "    <tr style=\"text-align: right;\">\n",
       "      <th></th>\n",
       "      <th>X</th>\n",
       "      <th>Y</th>\n",
       "    </tr>\n",
       "  </thead>\n",
       "  <tbody>\n",
       "    <tr>\n",
       "      <th>0</th>\n",
       "      <td>-3.086760</td>\n",
       "      <td>0.012814</td>\n",
       "    </tr>\n",
       "    <tr>\n",
       "      <th>1</th>\n",
       "      <td>2.368870</td>\n",
       "      <td>-0.056970</td>\n",
       "    </tr>\n",
       "    <tr>\n",
       "      <th>2</th>\n",
       "      <td>-0.741769</td>\n",
       "      <td>0.089533</td>\n",
       "    </tr>\n",
       "    <tr>\n",
       "      <th>3</th>\n",
       "      <td>-1.221298</td>\n",
       "      <td>0.145294</td>\n",
       "    </tr>\n",
       "    <tr>\n",
       "      <th>4</th>\n",
       "      <td>-2.080397</td>\n",
       "      <td>0.118519</td>\n",
       "    </tr>\n",
       "  </tbody>\n",
       "</table>\n",
       "</div>"
      ],
      "text/plain": [
       "          X         Y\n",
       "0 -3.086760  0.012814\n",
       "1  2.368870 -0.056970\n",
       "2 -0.741769  0.089533\n",
       "3 -1.221298  0.145294\n",
       "4 -2.080397  0.118519"
      ]
     },
     "execution_count": 2,
     "metadata": {},
     "output_type": "execute_result"
    }
   ],
   "source": [
    "data1 = pd.read_csv('data1.csv',header = None)\n",
    "data1.columns = ['X','Y']\n",
    "data1.head()"
   ]
  },
  {
   "cell_type": "code",
   "execution_count": 3,
   "metadata": {},
   "outputs": [
    {
     "data": {
      "text/plain": [
       "<matplotlib.collections.PathCollection at 0x7fbf3bbe4ac8>"
      ]
     },
     "execution_count": 3,
     "metadata": {},
     "output_type": "execute_result"
    },
    {
     "data": {
      "image/png": "[encoded data removed]",
      "text/plain": [
       "<Figure size 432x288 with 1 Axes>"
      ]
     },
     "metadata": {
      "needs_background": "light"
     },
     "output_type": "display_data"
    }
   ],
   "source": [
    "plt.scatter(data1.X,data1.Y)"
   ]
  },
  {
   "cell_type": "markdown",
   "metadata": {
    "colab_type": "text",
    "id": "GlFINCKfoOHJ"
   },
   "source": [
    "**Let $\\bar{x} = (x_1, x_2, x_3, \\cdots, x_m)$ denote a data point with $m$ features. Suppose we approximate $\\bar{x}$ with fewer features, say two features $x_1$ and $x_2$, as $\\bar{y} = (x_1, x_2, 0, \\cdots, 0)$. Now, define the loss due to the representation as $\\lVert \\bar{x} - \\bar{y} \\rVert^2 = x_3^2 + \\cdots + x_m^2$. **\n",
    "\n",
    "**(1b) Find a single feature representation of the data (in data1.csv) such that the loss in representation is minimum.**"
   ]
  },
  {
   "cell_type": "code",
   "execution_count": 4,
   "metadata": {},
   "outputs": [
    {
     "name": "stdout",
     "output_type": "stream",
     "text": [
      "loss1 358.1035064241587\n",
      "loss2 0.4191265524458239\n"
     ]
    }
   ],
   "source": [
    "# When feature 1 is removed\n",
    "loss1 = (data1.X**2).sum()\n",
    "loss2 = (data1.Y**2).sum()\n",
    "print(\"loss1\",loss1)\n",
    "print(\"loss2\",loss2)"
   ]
  },
  {
   "cell_type": "raw",
   "metadata": {},
   "source": [
    "1. First feature has more loss when we dont consider it. Loss is minimal when we choose feature1(X) and leave out feature2(Y).\n",
    "2. Can be seen from the scatter plot. feature1 is varying from -4 to 4 , but feature2 is varying from -0.2 to 0.2"
   ]
  },
  {
   "cell_type": "markdown",
   "metadata": {
    "colab_type": "text",
    "id": "GlFINCKfoOHJ"
   },
   "source": [
    "**(1c) Visualize the approximated data and compare it with the original data.**"
   ]
  },
  {
   "cell_type": "code",
   "execution_count": 5,
   "metadata": {},
   "outputs": [
    {
     "data": {
      "text/plain": [
       "<matplotlib.collections.PathCollection at 0x7fbf39aaafd0>"
      ]
     },
     "execution_count": 5,
     "metadata": {},
     "output_type": "execute_result"
    },
    {
     "data": {
      "image/png": "[encoded data removed]",
      "text/plain": [
       "<Figure size 432x288 with 1 Axes>"
      ]
     },
     "metadata": {
      "needs_background": "light"
     },
     "output_type": "display_data"
    },
    {
     "data": {
      "image/png": "[encoded data removed]",
      "text/plain": [
       "<Figure size 432x288 with 1 Axes>"
      ]
     },
     "metadata": {
      "needs_background": "light"
     },
     "output_type": "display_data"
    }
   ],
   "source": [
    "plt.figure()\n",
    "plt.title(\"Original Data\")\n",
    "plt.scatter(data1.X,data1.Y)\n",
    "plt.figure()\n",
    "plt.title(\"Approximate Data\")\n",
    "plt.scatter(data1.X,[0]*data1.Y.shape[0])"
   ]
  },
  {
   "cell_type": "raw",
   "metadata": {},
   "source": [
    "# Comments:\n",
    "----------\n",
    "1. Now you can see that after removing feature 2, the loss is minimal and data looks better than the original.\n",
    "2. In feature 2, it has very low variance(less information). So we removed from the original data"
   ]
  },
  {
   "cell_type": "markdown",
   "metadata": {
    "colab_type": "text",
    "id": "GlFINCKfoOHJ"
   },
   "source": [
    "**(2a) Load the data file 'data2.csv'.**"
   ]
  },
  {
   "cell_type": "code",
   "execution_count": 6,
   "metadata": {},
   "outputs": [
    {
     "data": {
      "text/html": [
       "<div>\n",
       "<style scoped>\n",
       "    .dataframe tbody tr th:only-of-type {\n",
       "        vertical-align: middle;\n",
       "    }\n",
       "\n",
       "    .dataframe tbody tr th {\n",
       "        vertical-align: top;\n",
       "    }\n",
       "\n",
       "    .dataframe thead th {\n",
       "        text-align: right;\n",
       "    }\n",
       "</style>\n",
       "<table border=\"1\" class=\"dataframe\">\n",
       "  <thead>\n",
       "    <tr style=\"text-align: right;\">\n",
       "      <th></th>\n",
       "      <th>X1</th>\n",
       "      <th>X2</th>\n",
       "      <th>X3</th>\n",
       "      <th>X4</th>\n",
       "    </tr>\n",
       "  </thead>\n",
       "  <tbody>\n",
       "    <tr>\n",
       "      <th>0</th>\n",
       "      <td>0.007589</td>\n",
       "      <td>-8.886696</td>\n",
       "      <td>-12.316361</td>\n",
       "      <td>-0.036092</td>\n",
       "    </tr>\n",
       "    <tr>\n",
       "      <th>1</th>\n",
       "      <td>-1.461927</td>\n",
       "      <td>3.977425</td>\n",
       "      <td>-17.784232</td>\n",
       "      <td>0.075197</td>\n",
       "    </tr>\n",
       "    <tr>\n",
       "      <th>2</th>\n",
       "      <td>-0.891625</td>\n",
       "      <td>-7.426320</td>\n",
       "      <td>25.122113</td>\n",
       "      <td>-0.150440</td>\n",
       "    </tr>\n",
       "    <tr>\n",
       "      <th>3</th>\n",
       "      <td>1.057471</td>\n",
       "      <td>4.184783</td>\n",
       "      <td>39.927021</td>\n",
       "      <td>0.068328</td>\n",
       "    </tr>\n",
       "    <tr>\n",
       "      <th>4</th>\n",
       "      <td>0.147645</td>\n",
       "      <td>-0.309380</td>\n",
       "      <td>33.502600</td>\n",
       "      <td>-0.125913</td>\n",
       "    </tr>\n",
       "  </tbody>\n",
       "</table>\n",
       "</div>"
      ],
      "text/plain": [
       "         X1        X2         X3        X4\n",
       "0  0.007589 -8.886696 -12.316361 -0.036092\n",
       "1 -1.461927  3.977425 -17.784232  0.075197\n",
       "2 -0.891625 -7.426320  25.122113 -0.150440\n",
       "3  1.057471  4.184783  39.927021  0.068328\n",
       "4  0.147645 -0.309380  33.502600 -0.125913"
      ]
     },
     "execution_count": 6,
     "metadata": {},
     "output_type": "execute_result"
    }
   ],
   "source": [
    "data2 = pd.read_csv('data2.csv',header = None)\n",
    "data2.columns = ['X1','X2','X3','X4']\n",
    "data2.head()"
   ]
  },
  {
   "cell_type": "markdown",
   "metadata": {
    "colab_type": "text",
    "id": "GlFINCKfoOHJ"
   },
   "source": [
    "**(2c) Order the features in decreasing order of significance (with respect to the representation loss).**"
   ]
  },
  {
   "cell_type": "markdown",
   "metadata": {},
   "source": [
    "**(2c) Plot the minimum representation loss as a function of the number of features used for representation.**"
   ]
  },
  {
   "cell_type": "code",
   "execution_count": 7,
   "metadata": {},
   "outputs": [
    {
     "data": {
      "text/plain": [
       "X1    9.907131e+02\n",
       "X2    3.914826e+04\n",
       "X3    1.013389e+06\n",
       "X4    5.105685e+00\n",
       "dtype: float64"
      ]
     },
     "execution_count": 7,
     "metadata": {},
     "output_type": "execute_result"
    }
   ],
   "source": [
    "n = [1,2,3,4]\n",
    "loss_data2 = (data2**2).sum()\n",
    "loss_data2"
   ]
  },
  {
   "cell_type": "code",
   "execution_count": 8,
   "metadata": {},
   "outputs": [
    {
     "name": "stdout",
     "output_type": "stream",
     "text": [
      "Order of Significance: X3 > X2 > X1 > X4\n"
     ]
    },
    {
     "data": {
      "image/png": "[encoded data removed]",
      "text/plain": [
       "<Figure size 432x288 with 1 Axes>"
      ]
     },
     "metadata": {
      "needs_background": "light"
     },
     "output_type": "display_data"
    }
   ],
   "source": [
    "sorted_loss = sorted(loss_data2,reverse=True)\n",
    "loss = []\n",
    "for i in n:\n",
    "    loss += [sum(sorted_loss[i:4])]\n",
    "    \n",
    "plt.plot(n,loss)\n",
    "plt.scatter(n,loss)\n",
    "print(\"Order of Significance: X3 > X2 > X1 > X4\")"
   ]
  },
  {
   "cell_type": "markdown",
   "metadata": {
    "colab_type": "text",
    "id": "GlFINCKfoOHJ"
   },
   "source": [
    "**(2d) Compute the covariance matrix of the $m$ features. Comment with respect to (2c).**"
   ]
  },
  {
   "cell_type": "code",
   "execution_count": 9,
   "metadata": {},
   "outputs": [
    {
     "name": "stdout",
     "output_type": "stream",
     "text": [
      "Covariance Matrix: \n",
      "[[ 9.87196296e-01 -5.71788428e-02 -1.40990871e-01  3.05657061e-03]\n",
      " [-5.71788428e-02  3.91821903e+01  1.16676059e-01 -7.77027357e-03]\n",
      " [-1.40990871e-01  1.16676059e-01  1.00898980e+03  5.58349417e-02]\n",
      " [ 3.05657061e-03 -7.77027357e-03  5.58349417e-02  5.09299247e-03]]\n"
     ]
    }
   ],
   "source": [
    "print(\"Covariance Matrix: \")\n",
    "print(np.cov(np.matrix([data2.X1, data2.X2, data2.X3, data2.X4])))"
   ]
  },
  {
   "cell_type": "raw",
   "metadata": {},
   "source": [
    "Comments:\n",
    "---------\n",
    "1. We see that features with higher variance are more significant.(Higher variance implies it might have valuable information and it is getting reflected in the representation loss)\n",
    "2. Hence, Variance follows X3 > X2 > X1 > X4 which is same as order of signficance mentioned in 2(c)"
   ]
  },
  {
   "cell_type": "markdown",
   "metadata": {
    "colab_type": "text",
    "id": "GlFINCKfoOHJ"
   },
   "source": [
    "**(3a) Load the data file 'data3.csv' and visualize the data.**\n",
    "\n",
    "**(3b) Compute the covariance matrix $C$ of the $m$ features.**"
   ]
  },
  {
   "cell_type": "code",
   "execution_count": 10,
   "metadata": {},
   "outputs": [
    {
     "name": "stdout",
     "output_type": "stream",
     "text": [
      "Covariance Matrix: \n",
      "[[3.59416569 3.61756379]\n",
      " [3.61756379 3.65805865]]\n"
     ]
    },
    {
     "data": {
      "image/png": "[encoded data removed]",
      "text/plain": [
       "<Figure size 432x288 with 1 Axes>"
      ]
     },
     "metadata": {
      "needs_background": "light"
     },
     "output_type": "display_data"
    }
   ],
   "source": [
    "data3 = pd.read_csv('data3.csv', header = None)\n",
    "X1 = data3[0]\n",
    "X2 = data3[1]\n",
    "\n",
    "cov_matrix = np.cov(np.matrix([X1, X2]), bias = False)\n",
    "\n",
    "print(\"Covariance Matrix: \")\n",
    "print(cov_matrix)\n",
    "\n",
    "plt.scatter(X1, X2)\n",
    "plt.title(\"Scatter Plot of Data 3\")\n",
    "plt.xlabel(\"X1------------->\")\n",
    "plt.ylabel(\"X2------------->\")\n",
    "plt.show()"
   ]
  },
  {
   "cell_type": "markdown",
   "metadata": {
    "colab_type": "text",
    "id": "GlFINCKfoOHJ"
   },
   "source": [
    "**(3c) Uncorrelate the covariance matrix $C$ using an orthonormal transformation (rotation).**"
   ]
  },
  {
   "cell_type": "code",
   "execution_count": 11,
   "metadata": {},
   "outputs": [
    {
     "name": "stdout",
     "output_type": "stream",
     "text": [
      "Uncorrelated Matrix: \n",
      "[[8.40732783e-03 3.29597460e-16]\n",
      " [0.00000000e+00 7.24381702e+00]]\n"
     ]
    }
   ],
   "source": [
    "eigvalue = np.linalg.eig(cov_matrix)[0]\n",
    "eigvectors = np.linalg.eig(cov_matrix)[1]\n",
    "\n",
    "Q = np.matrix(eigvectors)\n",
    "\n",
    "uncorrelated_matrix = (Q.transpose())*cov_matrix*(Q)\n",
    "\n",
    "print(\"Uncorrelated Matrix: \")\n",
    "print(uncorrelated_matrix)"
   ]
  },
  {
   "cell_type": "code",
   "execution_count": 12,
   "metadata": {},
   "outputs": [
    {
     "data": {
      "text/plain": [
       "array([0.00840733, 7.24381702])"
      ]
     },
     "execution_count": 12,
     "metadata": {},
     "output_type": "execute_result"
    }
   ],
   "source": [
    "eigvalue # you can see that one eigen value is almost zero , this indicates one principal component is enough"
   ]
  },
  {
   "cell_type": "markdown",
   "metadata": {
    "colab_type": "text",
    "id": "GlFINCKfoOHJ"
   },
   "source": [
    "**(3d) Apply the transformation to the data points. Now, visualize the data points.**"
   ]
  },
  {
   "cell_type": "code",
   "execution_count": 13,
   "metadata": {
    "scrolled": true
   },
   "outputs": [
    {
     "name": "stdout",
     "output_type": "stream",
     "text": [
      "[[-1.28141033e-02  5.65791656e-05]\n",
      " [ 5.69696720e-02 -2.51542884e-04]\n",
      " [-8.95316277e-02  3.95316369e-04]\n",
      " [-1.45292942e-01  6.41523894e-04]\n",
      " [-1.18518134e-01  5.23302876e-04]\n",
      " [ 1.43141002e-01 -6.32022256e-04]\n",
      " [ 1.94020108e-01 -8.56672959e-04]\n",
      " [-7.72328109e-02  3.41012390e-04]\n",
      " [ 7.95262616e-02 -3.51138852e-04]\n",
      " [-9.20550185e-02  4.06458104e-04]\n",
      " [-1.91996458e-01  8.47737774e-04]\n",
      " [-6.46373458e-02  2.85398596e-04]\n",
      " [-8.71718150e-02  3.84896894e-04]\n",
      " [-2.49549461e-02  1.10185629e-04]\n",
      " [ 2.17528434e-02 -9.60471208e-05]\n",
      " [ 8.28453618e-02 -3.65793948e-04]\n",
      " [ 1.02887930e-01 -4.54289550e-04]\n",
      " [ 3.00995987e-02 -1.32901237e-04]\n",
      " [ 1.26578368e-03 -5.58891893e-06]\n",
      " [ 7.48644117e-02 -3.30555002e-04]\n",
      " [-4.48198381e-02  1.97896722e-04]\n",
      " [ 1.64125899e-01 -7.24678597e-04]\n",
      " [ 5.16579958e-02 -2.28089803e-04]\n",
      " [ 7.06959729e-02 -3.12149751e-04]\n",
      " [ 3.15743241e-02 -1.39412713e-04]\n",
      " [-5.79246464e-02  2.55759461e-04]\n",
      " [ 5.05767403e-02 -2.23315647e-04]\n",
      " [-7.52494875e-02  3.32255259e-04]\n",
      " [ 7.99717089e-02 -3.53105672e-04]\n",
      " [-2.92861380e-02  1.29309497e-04]\n",
      " [-7.91954040e-02  3.49677989e-04]\n",
      " [-2.24479508e-02  9.91162859e-05]\n",
      " [-3.45898437e-02  1.52727385e-04]\n",
      " [ 4.24526751e-03 -1.87444792e-05]\n",
      " [ 2.91336508e-02 -1.28636207e-04]\n",
      " [-8.74406625e-02  3.86083958e-04]\n",
      " [-5.56026298e-02  2.45506870e-04]\n",
      " [-6.55868855e-03  2.89591177e-05]\n",
      " [-9.57217851e-02  4.22648281e-04]\n",
      " [ 7.91915978e-02 -3.49661183e-04]\n",
      " [-5.27045851e-02  2.32710895e-04]\n",
      " [-3.65984291e-02  1.61596058e-04]\n",
      " [ 1.41347835e-01 -6.24104737e-04]\n",
      " [-2.64141558e-02  1.16628597e-04]\n",
      " [-1.21128392e-01  5.34828163e-04]\n",
      " [ 3.88705825e-02 -1.71628484e-04]\n",
      " [-7.34557014e-02  3.24335008e-04]\n",
      " [-1.48712244e-01  6.56621419e-04]\n",
      " [ 2.32069335e-01 -1.02467485e-03]\n",
      " [ 7.81413818e-02 -3.45024078e-04]]\n"
     ]
    }
   ],
   "source": [
    "X = np.array([X1, X2])\n",
    "\n",
    "mean = np.mean(X.T, axis = 1)\n",
    "\n",
    "X = X - mean\n",
    "\n",
    "P_2 = eigvectors.T.dot(X)\n",
    "print(P_2.T)"
   ]
  },
  {
   "cell_type": "code",
   "execution_count": 14,
   "metadata": {},
   "outputs": [
    {
     "data": {
      "text/plain": [
       "<matplotlib.collections.PathCollection at 0x7fbf38518cc0>"
      ]
     },
     "execution_count": 14,
     "metadata": {},
     "output_type": "execute_result"
    },
    {
     "data": {
      "image/png": "[encoded data removed]",
      "text/plain": [
       "<Figure size 432x288 with 1 Axes>"
      ]
     },
     "metadata": {
      "needs_background": "light"
     },
     "output_type": "display_data"
    }
   ],
   "source": [
    "plt.scatter(P_2[0,:],P_2[1,:]) # now we projected the data onto the principal components and \n",
    "#now data variance is captured by the eigen vector corresponds to the highest eigen value"
   ]
  },
  {
   "cell_type": "raw",
   "metadata": {},
   "source": [
    "Comments:\n",
    "---------\n",
    "1.We projected the data onto the principal components which are nothing eigen vectors of the covariance matrix.\n",
    "2.Data variance is captured by the eigen vector corresponds to the highest eigen values.\n",
    "3.Eigen value is directly proportional to variance captured."
   ]
  },
  {
   "cell_type": "markdown",
   "metadata": {
    "colab_type": "text",
    "id": "GlFINCKfoOHJ"
   },
   "source": [
    "**(3e) Find a one-dimensional representation of the data such that the representation loss is minimum.**\n",
    "\n",
    "**(3f) Reverse the (rotation) transformation on the approximated data and visualize the data.**"
   ]
  },
  {
   "cell_type": "code",
   "execution_count": 15,
   "metadata": {},
   "outputs": [],
   "source": [
    "# One dimensional representation means project onto the principal component 1(PC1, higher eigen values)\n",
    "pc1 = eigvectors[:,1]\n",
    "X = np.array([X1, X2])\n",
    "mean = np.mean(X.T, axis = 1)\n",
    "X = X - mean\n",
    "P = pc1.T.dot(X)"
   ]
  },
  {
   "cell_type": "code",
   "execution_count": 16,
   "metadata": {},
   "outputs": [
    {
     "data": {
      "text/plain": [
       "<matplotlib.collections.PathCollection at 0x7fbf39a19550>"
      ]
     },
     "execution_count": 16,
     "metadata": {},
     "output_type": "execute_result"
    },
    {
     "data": {
      "image/png": "[encoded data removed]",
      "text/plain": [
       "<Figure size 432x288 with 1 Axes>"
      ]
     },
     "metadata": {
      "needs_background": "light"
     },
     "output_type": "display_data"
    }
   ],
   "source": [
    "denoised = P.reshape(-1,1).dot(pc1.reshape(-1,1).T) + mean.reshape(-1,1)\n",
    "plt.scatter(denoised[:,0],denoised[:,1]) "
   ]
  },
  {
   "cell_type": "raw",
   "metadata": {},
   "source": [
    "Comments:\n",
    "----------\n",
    "1. PCA can be used as denoising the data. As you see that data is denoised from the previous raw data\n",
    "2. After PCA, there is a clear relation among the features and least eigen value is close to zero for the previous data because of the noise but now noise has been removed."
   ]
  },
  {
   "cell_type": "markdown",
   "metadata": {
    "colab_type": "text",
    "id": "GlFINCKfoOHJ"
   },
   "source": [
    "**(3e) Compute the representational loss (with respect to the original data).**\n",
    "\n",
    "**(3f) Compare the above representation loss with the loss your would incur if you attempted a one-dimensional representation without any transformation. Comment on it.**\n"
   ]
  },
  {
   "cell_type": "code",
   "execution_count": 17,
   "metadata": {},
   "outputs": [
    {
     "name": "stdout",
     "output_type": "stream",
     "text": [
      "Pc1 loss :  8.170964868535965e-06 Pc2 loss :  0.41911838148095654\n"
     ]
    }
   ],
   "source": [
    "pc1_loss = (P_2.T[:,1]**2).sum()\n",
    "pc2_loss = (P_2.T[:,0]**2).sum()\n",
    "\n",
    "print(\"Pc1 loss : \",pc1_loss,\"Pc2 loss : \",pc2_loss)"
   ]
  },
  {
   "cell_type": "code",
   "execution_count": 18,
   "metadata": {},
   "outputs": [
    {
     "name": "stdout",
     "output_type": "stream",
     "text": [
      "Total variance lost or denoised : 0.1129758518247079 %\n"
     ]
    }
   ],
   "source": [
    "# 3e)\n",
    "denoised_loss = (denoised[:,0]**2).sum() + (denoised[:,1]**2).sum()\n",
    "original_loss = (data3[0]**2).sum() + (data3[1]**2).sum()\n",
    "\n",
    "total_var_loss = ((original_loss - denoised_loss)/original_loss)*100\n",
    "print(\"Total variance lost or denoised :\",total_var_loss,\"%\")"
   ]
  },
  {
   "cell_type": "code",
   "execution_count": 19,
   "metadata": {},
   "outputs": [
    {
     "name": "stdout",
     "output_type": "stream",
     "text": [
      "x1 loss 177.66749559601547 x2 loss 180.85513738058907\n"
     ]
    }
   ],
   "source": [
    "#3f)\n",
    "x1_loss = (data3[0]**2).sum()\n",
    "x2_loss = (data3[1]**2).sum()\n",
    "print(\"x1 loss\", x1_loss, \"x2 loss\", x2_loss)"
   ]
  },
  {
   "cell_type": "raw",
   "metadata": {},
   "source": [
    "Comments:\n",
    "---------\n",
    "1. If I remove the X1 then representation loss incurred is minimum. but it is huge, comparitive to the X2 representationa loss and almost half of the variance is lost. so we are losing the information. But in PCA, we are taking linear combination of the X1 and X2 by maximising the variance captured. So the representation loss is minimum.\n",
    "2. Pc2 loss is too less, it is just 5% of the pc1 loss. So, here in PCA losses are also minimum."
   ]
  },
  {
   "cell_type": "markdown",
   "metadata": {
    "colab_type": "text",
    "id": "GlFINCKfoOHJ"
   },
   "source": [
    "**(4a) Load the data file 'data4.csv'.**\n",
    "\n",
    "**(4b) Plot the representation loss as a function of the number of features (in the transformed domain) used for representation.**"
   ]
  },
  {
   "cell_type": "code",
   "execution_count": 20,
   "metadata": {},
   "outputs": [],
   "source": [
    "data4 = pd.read_csv('data4.csv', header = None)"
   ]
  },
  {
   "cell_type": "code",
   "execution_count": 21,
   "metadata": {},
   "outputs": [
    {
     "name": "stdout",
     "output_type": "stream",
     "text": [
      "Covariance Matrix: \n",
      "[[ 9.63091289e-01  4.14494945e-02  4.14494944e-02 -2.04024454e-03]\n",
      " [ 4.14494945e-02  4.12354462e+01  4.12354462e+01 -1.38832857e-02]\n",
      " [ 4.14494944e-02  4.12354462e+01  4.12354462e+01 -1.38832857e-02]\n",
      " [-2.04024454e-03 -1.38832857e-02 -1.38832857e-02  5.09034314e-03]]\n"
     ]
    }
   ],
   "source": [
    "X1 = data4[0]\n",
    "X2 = data4[1]\n",
    "X3 = data4[2]\n",
    "X4 = data4[3]\n",
    "\n",
    "cov_matrix = np.cov(np.matrix([X1, X2, X3, X4]), bias = False)\n",
    "\n",
    "print(\"Covariance Matrix: \")\n",
    "print(cov_matrix)"
   ]
  },
  {
   "cell_type": "code",
   "execution_count": 22,
   "metadata": {},
   "outputs": [
    {
     "name": "stdout",
     "output_type": "stream",
     "text": [
      "Uncorrelated Matrix: \n",
      "[[ 8.24709393e+01 -1.53314861e-14  1.66706926e-15  0.00000000e+00]\n",
      " [-1.53299682e-14  9.63053418e-01  2.37657116e-16  7.31836466e-18]\n",
      " [ 1.66939797e-15  2.38336437e-16  5.08138259e-03 -9.18501352e-19]\n",
      " [-5.02429234e-15  7.08166991e-18  5.53386785e-19 -5.02429587e-15]]\n"
     ]
    }
   ],
   "source": [
    "eigvalue = np.linalg.eig(cov_matrix)[0]\n",
    "eigvectors = np.linalg.eig(cov_matrix)[1]\n",
    "\n",
    "Q = np.matrix(eigvectors)\n",
    "\n",
    "uncorrelated_matrix = (Q.transpose())*cov_matrix*(Q)\n",
    "\n",
    "print(\"Uncorrelated Matrix: \")\n",
    "print(uncorrelated_matrix)"
   ]
  },
  {
   "cell_type": "code",
   "execution_count": 23,
   "metadata": {},
   "outputs": [
    {
     "data": {
      "text/plain": [
       "0    2.071708e+04\n",
       "1    1.079569e+04\n",
       "2    1.043619e+04\n",
       "3    4.859049e-13\n",
       "dtype: float64"
      ]
     },
     "execution_count": 23,
     "metadata": {},
     "output_type": "execute_result"
    }
   ],
   "source": [
    "X = np.array([X1, X2, X3, X4])\n",
    "\n",
    "mean = np.mean(X.T, axis = 1)\n",
    "\n",
    "X = X - mean\n",
    "\n",
    "P_2 = eigvectors.T.dot(X)\n",
    "\n",
    "P_2_df = pd.DataFrame(P_2.T)\n",
    "\n",
    "n = [1,2,3,4]\n",
    "loss_data4 = (P_2_df**2).sum()\n",
    "loss_data4"
   ]
  },
  {
   "cell_type": "code",
   "execution_count": 24,
   "metadata": {},
   "outputs": [
    {
     "name": "stdout",
     "output_type": "stream",
     "text": [
      "Order of Significance: X1_trans > X2_trans > X3_trans > X4_trans\n"
     ]
    },
    {
     "data": {
      "image/png": "[encoded data removed]",
      "text/plain": [
       "<Figure size 432x288 with 1 Axes>"
      ]
     },
     "metadata": {
      "needs_background": "light"
     },
     "output_type": "display_data"
    }
   ],
   "source": [
    "sorted_loss = sorted(loss_data4,reverse=True)\n",
    "loss = []\n",
    "for i in n:\n",
    "    loss += [sum(sorted_loss[i:4])]\n",
    "    \n",
    "plt.plot(n,loss)\n",
    "plt.scatter(n,loss)\n",
    "print(\"Order of Significance: X1_trans > X2_trans > X3_trans > X4_trans\")"
   ]
  },
  {
   "cell_type": "markdown",
   "metadata": {
    "colab_type": "text",
    "id": "H__9kyFz_yip"
   },
   "source": [
    "# Application"
   ]
  },
  {
   "cell_type": "markdown",
   "metadata": {
    "colab_type": "text",
    "id": "GlFINCKfoOHJ"
   },
   "source": [
    "**(5a) Load the human face data set given below.**"
   ]
  },
  {
   "cell_type": "code",
   "execution_count": 25,
   "metadata": {},
   "outputs": [],
   "source": [
    "from sklearn.datasets import fetch_lfw_people\n",
    "faces = fetch_lfw_people(min_faces_per_person=60)"
   ]
  },
  {
   "cell_type": "markdown",
   "metadata": {
    "colab_type": "text",
    "id": "GlFINCKfoOHJ"
   },
   "source": [
    "** faces.data should contain vectorized 1-D images. faces.images should contain 2-D images.**\n",
    "\n",
    "**(5b) Visualize the data set.**"
   ]
  },
  {
   "cell_type": "code",
   "execution_count": 26,
   "metadata": {},
   "outputs": [],
   "source": [
    "faces_data = pd.DataFrame(faces.data)"
   ]
  },
  {
   "cell_type": "code",
   "execution_count": 27,
   "metadata": {},
   "outputs": [
    {
     "data": {
      "text/html": [
       "<div>\n",
       "<style scoped>\n",
       "    .dataframe tbody tr th:only-of-type {\n",
       "        vertical-align: middle;\n",
       "    }\n",
       "\n",
       "    .dataframe tbody tr th {\n",
       "        vertical-align: top;\n",
       "    }\n",
       "\n",
       "    .dataframe thead th {\n",
       "        text-align: right;\n",
       "    }\n",
       "</style>\n",
       "<table border=\"1\" class=\"dataframe\">\n",
       "  <thead>\n",
       "    <tr style=\"text-align: right;\">\n",
       "      <th></th>\n",
       "      <th>0</th>\n",
       "      <th>1</th>\n",
       "      <th>2</th>\n",
       "      <th>3</th>\n",
       "      <th>4</th>\n",
       "      <th>5</th>\n",
       "      <th>6</th>\n",
       "      <th>7</th>\n",
       "      <th>8</th>\n",
       "      <th>9</th>\n",
       "      <th>...</th>\n",
       "      <th>2904</th>\n",
       "      <th>2905</th>\n",
       "      <th>2906</th>\n",
       "      <th>2907</th>\n",
       "      <th>2908</th>\n",
       "      <th>2909</th>\n",
       "      <th>2910</th>\n",
       "      <th>2911</th>\n",
       "      <th>2912</th>\n",
       "      <th>2913</th>\n",
       "    </tr>\n",
       "  </thead>\n",
       "  <tbody>\n",
       "    <tr>\n",
       "      <th>0</th>\n",
       "      <td>138.000000</td>\n",
       "      <td>135.666672</td>\n",
       "      <td>127.666664</td>\n",
       "      <td>120.666664</td>\n",
       "      <td>117.000000</td>\n",
       "      <td>119.666664</td>\n",
       "      <td>126.000000</td>\n",
       "      <td>133.333328</td>\n",
       "      <td>138.000000</td>\n",
       "      <td>143.666672</td>\n",
       "      <td>...</td>\n",
       "      <td>113.000000</td>\n",
       "      <td>24.666666</td>\n",
       "      <td>4.666667</td>\n",
       "      <td>2.666667</td>\n",
       "      <td>1.333333</td>\n",
       "      <td>0.333333</td>\n",
       "      <td>1.333333</td>\n",
       "      <td>1.666667</td>\n",
       "      <td>1.666667</td>\n",
       "      <td>0.333333</td>\n",
       "    </tr>\n",
       "    <tr>\n",
       "      <th>1</th>\n",
       "      <td>71.333336</td>\n",
       "      <td>56.000000</td>\n",
       "      <td>67.666664</td>\n",
       "      <td>91.333336</td>\n",
       "      <td>91.666664</td>\n",
       "      <td>72.333336</td>\n",
       "      <td>101.666664</td>\n",
       "      <td>124.666664</td>\n",
       "      <td>124.333336</td>\n",
       "      <td>127.666664</td>\n",
       "      <td>...</td>\n",
       "      <td>236.666672</td>\n",
       "      <td>248.333328</td>\n",
       "      <td>252.666672</td>\n",
       "      <td>253.333328</td>\n",
       "      <td>253.000000</td>\n",
       "      <td>253.666672</td>\n",
       "      <td>251.666672</td>\n",
       "      <td>247.666672</td>\n",
       "      <td>243.000000</td>\n",
       "      <td>238.333328</td>\n",
       "    </tr>\n",
       "    <tr>\n",
       "      <th>2</th>\n",
       "      <td>84.333336</td>\n",
       "      <td>97.333336</td>\n",
       "      <td>72.333336</td>\n",
       "      <td>56.666668</td>\n",
       "      <td>95.333336</td>\n",
       "      <td>118.333336</td>\n",
       "      <td>123.666664</td>\n",
       "      <td>128.666672</td>\n",
       "      <td>130.333328</td>\n",
       "      <td>134.666672</td>\n",
       "      <td>...</td>\n",
       "      <td>83.333336</td>\n",
       "      <td>91.000000</td>\n",
       "      <td>106.666664</td>\n",
       "      <td>116.000000</td>\n",
       "      <td>123.000000</td>\n",
       "      <td>118.333336</td>\n",
       "      <td>102.000000</td>\n",
       "      <td>114.000000</td>\n",
       "      <td>194.333328</td>\n",
       "      <td>241.000000</td>\n",
       "    </tr>\n",
       "    <tr>\n",
       "      <th>3</th>\n",
       "      <td>68.333336</td>\n",
       "      <td>81.666664</td>\n",
       "      <td>121.666664</td>\n",
       "      <td>135.000000</td>\n",
       "      <td>138.666672</td>\n",
       "      <td>141.333328</td>\n",
       "      <td>142.000000</td>\n",
       "      <td>148.333328</td>\n",
       "      <td>159.666672</td>\n",
       "      <td>171.000000</td>\n",
       "      <td>...</td>\n",
       "      <td>90.000000</td>\n",
       "      <td>104.000000</td>\n",
       "      <td>165.000000</td>\n",
       "      <td>224.000000</td>\n",
       "      <td>232.333328</td>\n",
       "      <td>228.666672</td>\n",
       "      <td>230.000000</td>\n",
       "      <td>229.333328</td>\n",
       "      <td>224.333328</td>\n",
       "      <td>206.666672</td>\n",
       "    </tr>\n",
       "    <tr>\n",
       "      <th>4</th>\n",
       "      <td>56.666668</td>\n",
       "      <td>55.333332</td>\n",
       "      <td>47.333332</td>\n",
       "      <td>47.000000</td>\n",
       "      <td>50.000000</td>\n",
       "      <td>44.666668</td>\n",
       "      <td>44.666668</td>\n",
       "      <td>52.000000</td>\n",
       "      <td>62.333332</td>\n",
       "      <td>55.000000</td>\n",
       "      <td>...</td>\n",
       "      <td>41.666668</td>\n",
       "      <td>39.666668</td>\n",
       "      <td>37.333332</td>\n",
       "      <td>34.333332</td>\n",
       "      <td>34.000000</td>\n",
       "      <td>34.333332</td>\n",
       "      <td>34.333332</td>\n",
       "      <td>34.666668</td>\n",
       "      <td>35.666668</td>\n",
       "      <td>34.000000</td>\n",
       "    </tr>\n",
       "  </tbody>\n",
       "</table>\n",
       "<p>5 rows × 2914 columns</p>\n",
       "</div>"
      ],
      "text/plain": [
       "         0           1           2           3           4           5     \\\n",
       "0  138.000000  135.666672  127.666664  120.666664  117.000000  119.666664   \n",
       "1   71.333336   56.000000   67.666664   91.333336   91.666664   72.333336   \n",
       "2   84.333336   97.333336   72.333336   56.666668   95.333336  118.333336   \n",
       "3   68.333336   81.666664  121.666664  135.000000  138.666672  141.333328   \n",
       "4   56.666668   55.333332   47.333332   47.000000   50.000000   44.666668   \n",
       "\n",
       "         6           7           8           9     ...        2904  \\\n",
       "0  126.000000  133.333328  138.000000  143.666672  ...  113.000000   \n",
       "1  101.666664  124.666664  124.333336  127.666664  ...  236.666672   \n",
       "2  123.666664  128.666672  130.333328  134.666672  ...   83.333336   \n",
       "3  142.000000  148.333328  159.666672  171.000000  ...   90.000000   \n",
       "4   44.666668   52.000000   62.333332   55.000000  ...   41.666668   \n",
       "\n",
       "         2905        2906        2907        2908        2909        2910  \\\n",
       "0   24.666666    4.666667    2.666667    1.333333    0.333333    1.333333   \n",
       "1  248.333328  252.666672  253.333328  253.000000  253.666672  251.666672   \n",
       "2   91.000000  106.666664  116.000000  123.000000  118.333336  102.000000   \n",
       "3  104.000000  165.000000  224.000000  232.333328  228.666672  230.000000   \n",
       "4   39.666668   37.333332   34.333332   34.000000   34.333332   34.333332   \n",
       "\n",
       "         2911        2912        2913  \n",
       "0    1.666667    1.666667    0.333333  \n",
       "1  247.666672  243.000000  238.333328  \n",
       "2  114.000000  194.333328  241.000000  \n",
       "3  229.333328  224.333328  206.666672  \n",
       "4   34.666668   35.666668   34.000000  \n",
       "\n",
       "[5 rows x 2914 columns]"
      ]
     },
     "execution_count": 27,
     "metadata": {},
     "output_type": "execute_result"
    }
   ],
   "source": [
    "faces_data.head()"
   ]
  },
  {
   "cell_type": "code",
   "execution_count": 28,
   "metadata": {
    "scrolled": true
   },
   "outputs": [
    {
     "data": {
      "image/png": "[encoded data removed]",
      "text/plain": [
       "<Figure size 432x288 with 1 Axes>"
      ]
     },
     "metadata": {
      "needs_background": "light"
     },
     "output_type": "display_data"
    },
    {
     "data": {
      "image/png": "[encoded data removed]",
      "text/plain": [
       "<Figure size 432x288 with 1 Axes>"
      ]
     },
     "metadata": {
      "needs_background": "light"
     },
     "output_type": "display_data"
    },
    {
     "data": {
      "image/png": "[encoded data removed]",
      "text/plain": [
       "<Figure size 432x288 with 1 Axes>"
      ]
     },
     "metadata": {
      "needs_background": "light"
     },
     "output_type": "display_data"
    },
    {
     "data": {
      "image/png": "[encoded data removed]",
      "text/plain": [
       "<Figure size 432x288 with 1 Axes>"
      ]
     },
     "metadata": {
      "needs_background": "light"
     },
     "output_type": "display_data"
    },
    {
     "data": {
      "image/png": "[encoded data removed]",
      "text/plain": [
       "<Figure size 432x288 with 1 Axes>"
      ]
     },
     "metadata": {
      "needs_background": "light"
     },
     "output_type": "display_data"
    }
   ],
   "source": [
    "for i in range(5):\n",
    "    plt.imshow(faces.images[i], cmap=\"gray\")\n",
    "    plt.show()"
   ]
  },
  {
   "cell_type": "markdown",
   "metadata": {
    "colab_type": "text",
    "id": "GlFINCKfoOHJ"
   },
   "source": [
    "**(5c) Take faces.data and apply PCA. **"
   ]
  },
  {
   "cell_type": "code",
   "execution_count": 29,
   "metadata": {},
   "outputs": [
    {
     "data": {
      "text/plain": [
       "PCA(copy=True, iterated_power='auto', n_components=150, random_state=None,\n",
       "    svd_solver='auto', tol=0.0, whiten=False)"
      ]
     },
     "execution_count": 29,
     "metadata": {},
     "output_type": "execute_result"
    }
   ],
   "source": [
    "from sklearn.decomposition import PCA\n",
    "pca = PCA(n_components=150)\n",
    "pca.fit(faces_data)"
   ]
  },
  {
   "cell_type": "markdown",
   "metadata": {
    "colab_type": "text",
    "id": "GlFINCKfoOHJ"
   },
   "source": [
    "**(5c) Take the top 150 features from PCA. Reconstruct the images with the top 150 features and visualize it. Comment.**"
   ]
  },
  {
   "cell_type": "code",
   "execution_count": 30,
   "metadata": {},
   "outputs": [],
   "source": [
    "X_pca = pca.transform(faces_data)\n",
    "X_projected = pca.inverse_transform(X_pca)"
   ]
  },
  {
   "cell_type": "code",
   "execution_count": 31,
   "metadata": {},
   "outputs": [],
   "source": [
    "projected_images = X_projected.reshape(1348,62,47)"
   ]
  },
  {
   "cell_type": "code",
   "execution_count": 32,
   "metadata": {
    "scrolled": true
   },
   "outputs": [
    {
     "data": {
      "image/png": "[encoded data removed]",
      "text/plain": [
       "<Figure size 432x288 with 1 Axes>"
      ]
     },
     "metadata": {
      "needs_background": "light"
     },
     "output_type": "display_data"
    },
    {
     "data": {
      "image/png": "[encoded data removed]",
      "text/plain": [
       "<Figure size 432x288 with 1 Axes>"
      ]
     },
     "metadata": {
      "needs_background": "light"
     },
     "output_type": "display_data"
    },
    {
     "data": {
      "image/png": "[encoded data removed]",
      "text/plain": [
       "<Figure size 432x288 with 1 Axes>"
      ]
     },
     "metadata": {
      "needs_background": "light"
     },
     "output_type": "display_data"
    },
    {
     "data": {
      "image/png": "[encoded data removed]",
      "text/plain": [
       "<Figure size 432x288 with 1 Axes>"
      ]
     },
     "metadata": {
      "needs_background": "light"
     },
     "output_type": "display_data"
    },
    {
     "data": {
      "image/png": "[encoded data removed]",
      "text/plain": [
       "<Figure size 432x288 with 1 Axes>"
      ]
     },
     "metadata": {
      "needs_background": "light"
     },
     "output_type": "display_data"
    }
   ],
   "source": [
    "for i in range(5):\n",
    "    plt.imshow(projected_images[i], cmap=\"gray\")\n",
    "    plt.show()"
   ]
  },
  {
   "cell_type": "raw",
   "metadata": {},
   "source": [
    "Comments:\n",
    "---------\n",
    "1. As you can see from above pictures which has 150 PCA features are denoised and data compression took place.\n",
    "2. PCA transform and then inverse transform helps us to remove unnecessary background and makes us to focus on the face."
   ]
  }
 ],
 "metadata": {
  "colab": {
   "collapsed_sections": [],
   "name": "Lab5_DataAnalytics.ipynb",
   "provenance": [],
   "version": "0.3.2"
  },
  "kernelspec": {
   "display_name": "Python 3",
   "language": "python",
   "name": "python3"
  },
  "language_info": {
   "codemirror_mode": {
    "name": "ipython",
    "version": 3
   },
   "file_extension": ".py",
   "mimetype": "text/x-python",
   "name": "python",
   "nbconvert_exporter": "python",
   "pygments_lexer": "ipython3",
   "version": "3.7.3"
  }
 },
 "nbformat": 4,
 "nbformat_minor": 1
}

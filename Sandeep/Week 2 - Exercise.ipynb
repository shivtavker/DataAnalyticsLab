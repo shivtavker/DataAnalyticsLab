{
 "cells": [
  {
   "cell_type": "raw",
   "metadata": {},
   "source": [
    "You are given cricket dataset with information collected about real ODI matches played over past few years. \n",
    "Since you are a data scientist, you decided to apply for a role in BCCI and help India with strategies to win a match.\n",
    "\n",
    "The first innings has been played and target is 300 to be chased by India.\n",
    "\n",
    "1. What is the best strategy (run rate) for first 10 overs to win the match? Justify and support your answer with empirical evidence.\n",
    "\n",
    "2. Currently India is at 50-2 (50 runs and lost 2 wickets) at the end of 10 overs. What is the best strategy for 11-20 overs?"
   ]
  },
  {
   "cell_type": "code",
   "execution_count": 1,
   "metadata": {},
   "outputs": [],
   "source": [
    "# Import packages\n",
    "import pandas as pd\n",
    "import numpy as np\n",
    "import warnings\n",
    "warnings.filterwarnings(\"ignore\")"
   ]
  },
  {
   "cell_type": "code",
   "execution_count": 2,
   "metadata": {},
   "outputs": [],
   "source": [
    "# Import the data into the dataframe 'data'\n",
    "\n",
    "data = pd.read_csv('04_cricket_1999to2011.csv')"
   ]
  },
  {
   "cell_type": "code",
   "execution_count": 3,
   "metadata": {},
   "outputs": [
    {
     "data": {
      "text/html": [
       "<div>\n",
       "<style scoped>\n",
       "    .dataframe tbody tr th:only-of-type {\n",
       "        vertical-align: middle;\n",
       "    }\n",
       "\n",
       "    .dataframe tbody tr th {\n",
       "        vertical-align: top;\n",
       "    }\n",
       "\n",
       "    .dataframe thead th {\n",
       "        text-align: right;\n",
       "    }\n",
       "</style>\n",
       "<table border=\"1\" class=\"dataframe\">\n",
       "  <thead>\n",
       "    <tr style=\"text-align: right;\">\n",
       "      <th></th>\n",
       "      <th>Match</th>\n",
       "      <th>Date</th>\n",
       "      <th>Innings</th>\n",
       "      <th>Over</th>\n",
       "      <th>Runs</th>\n",
       "      <th>Total.Runs</th>\n",
       "      <th>Innings.Total.Runs</th>\n",
       "      <th>Runs.Remaining</th>\n",
       "      <th>Total.Out</th>\n",
       "      <th>Innings.Total.Out</th>\n",
       "      <th>...</th>\n",
       "      <th>at.bat.won.toss</th>\n",
       "      <th>at.bat.at.home</th>\n",
       "      <th>at.bat.bat.first</th>\n",
       "      <th>chose_bat_1st</th>\n",
       "      <th>chose_bat_2nd</th>\n",
       "      <th>forced_bat_1st</th>\n",
       "      <th>forced_bat_2nd</th>\n",
       "      <th>new.game</th>\n",
       "      <th>Error.In.Data</th>\n",
       "      <th>common.support</th>\n",
       "    </tr>\n",
       "  </thead>\n",
       "  <tbody>\n",
       "    <tr>\n",
       "      <th>0</th>\n",
       "      <td>65193</td>\n",
       "      <td>14/05/1999</td>\n",
       "      <td>1</td>\n",
       "      <td>1</td>\n",
       "      <td>4</td>\n",
       "      <td>4</td>\n",
       "      <td>204</td>\n",
       "      <td>200</td>\n",
       "      <td>0</td>\n",
       "      <td>10</td>\n",
       "      <td>...</td>\n",
       "      <td>0</td>\n",
       "      <td>0</td>\n",
       "      <td>1</td>\n",
       "      <td>0</td>\n",
       "      <td>0</td>\n",
       "      <td>1</td>\n",
       "      <td>0</td>\n",
       "      <td>1</td>\n",
       "      <td>0</td>\n",
       "      <td>1</td>\n",
       "    </tr>\n",
       "    <tr>\n",
       "      <th>1</th>\n",
       "      <td>65193</td>\n",
       "      <td>14/05/1999</td>\n",
       "      <td>1</td>\n",
       "      <td>2</td>\n",
       "      <td>2</td>\n",
       "      <td>6</td>\n",
       "      <td>204</td>\n",
       "      <td>198</td>\n",
       "      <td>0</td>\n",
       "      <td>10</td>\n",
       "      <td>...</td>\n",
       "      <td>0</td>\n",
       "      <td>0</td>\n",
       "      <td>1</td>\n",
       "      <td>0</td>\n",
       "      <td>0</td>\n",
       "      <td>1</td>\n",
       "      <td>0</td>\n",
       "      <td>0</td>\n",
       "      <td>0</td>\n",
       "      <td>1</td>\n",
       "    </tr>\n",
       "    <tr>\n",
       "      <th>2</th>\n",
       "      <td>65193</td>\n",
       "      <td>14/05/1999</td>\n",
       "      <td>1</td>\n",
       "      <td>3</td>\n",
       "      <td>3</td>\n",
       "      <td>9</td>\n",
       "      <td>204</td>\n",
       "      <td>195</td>\n",
       "      <td>0</td>\n",
       "      <td>10</td>\n",
       "      <td>...</td>\n",
       "      <td>0</td>\n",
       "      <td>0</td>\n",
       "      <td>1</td>\n",
       "      <td>0</td>\n",
       "      <td>0</td>\n",
       "      <td>1</td>\n",
       "      <td>0</td>\n",
       "      <td>0</td>\n",
       "      <td>0</td>\n",
       "      <td>1</td>\n",
       "    </tr>\n",
       "    <tr>\n",
       "      <th>3</th>\n",
       "      <td>65193</td>\n",
       "      <td>14/05/1999</td>\n",
       "      <td>1</td>\n",
       "      <td>4</td>\n",
       "      <td>2</td>\n",
       "      <td>20</td>\n",
       "      <td>204</td>\n",
       "      <td>184</td>\n",
       "      <td>0</td>\n",
       "      <td>10</td>\n",
       "      <td>...</td>\n",
       "      <td>0</td>\n",
       "      <td>0</td>\n",
       "      <td>1</td>\n",
       "      <td>0</td>\n",
       "      <td>0</td>\n",
       "      <td>1</td>\n",
       "      <td>0</td>\n",
       "      <td>0</td>\n",
       "      <td>0</td>\n",
       "      <td>1</td>\n",
       "    </tr>\n",
       "    <tr>\n",
       "      <th>4</th>\n",
       "      <td>65193</td>\n",
       "      <td>14/05/1999</td>\n",
       "      <td>1</td>\n",
       "      <td>5</td>\n",
       "      <td>6</td>\n",
       "      <td>37</td>\n",
       "      <td>204</td>\n",
       "      <td>167</td>\n",
       "      <td>0</td>\n",
       "      <td>10</td>\n",
       "      <td>...</td>\n",
       "      <td>0</td>\n",
       "      <td>0</td>\n",
       "      <td>1</td>\n",
       "      <td>0</td>\n",
       "      <td>0</td>\n",
       "      <td>1</td>\n",
       "      <td>0</td>\n",
       "      <td>0</td>\n",
       "      <td>0</td>\n",
       "      <td>1</td>\n",
       "    </tr>\n",
       "  </tbody>\n",
       "</table>\n",
       "<p>5 rows × 38 columns</p>\n",
       "</div>"
      ],
      "text/plain": [
       "   Match        Date  Innings  Over  Runs  Total.Runs  Innings.Total.Runs  \\\n",
       "0  65193  14/05/1999        1     1     4           4                 204   \n",
       "1  65193  14/05/1999        1     2     2           6                 204   \n",
       "2  65193  14/05/1999        1     3     3           9                 204   \n",
       "3  65193  14/05/1999        1     4     2          20                 204   \n",
       "4  65193  14/05/1999        1     5     6          37                 204   \n",
       "\n",
       "   Runs.Remaining  Total.Out  Innings.Total.Out  ...  at.bat.won.toss  \\\n",
       "0             200          0                 10  ...                0   \n",
       "1             198          0                 10  ...                0   \n",
       "2             195          0                 10  ...                0   \n",
       "3             184          0                 10  ...                0   \n",
       "4             167          0                 10  ...                0   \n",
       "\n",
       "   at.bat.at.home  at.bat.bat.first  chose_bat_1st  chose_bat_2nd  \\\n",
       "0               0                 1              0              0   \n",
       "1               0                 1              0              0   \n",
       "2               0                 1              0              0   \n",
       "3               0                 1              0              0   \n",
       "4               0                 1              0              0   \n",
       "\n",
       "   forced_bat_1st  forced_bat_2nd  new.game Error.In.Data common.support  \n",
       "0               1               0         1             0              1  \n",
       "1               1               0         0             0              1  \n",
       "2               1               0         0             0              1  \n",
       "3               1               0         0             0              1  \n",
       "4               1               0         0             0              1  \n",
       "\n",
       "[5 rows x 38 columns]"
      ]
     },
     "execution_count": 3,
     "metadata": {},
     "output_type": "execute_result"
    }
   ],
   "source": [
    "data.head()"
   ]
  },
  {
   "cell_type": "code",
   "execution_count": 4,
   "metadata": {},
   "outputs": [
    {
     "data": {
      "text/plain": [
       "(126768, 38)"
      ]
     },
     "execution_count": 4,
     "metadata": {},
     "output_type": "execute_result"
    }
   ],
   "source": [
    "# No of samples and features given in the data which is MxN\n",
    "data.shape"
   ]
  },
  {
   "cell_type": "code",
   "execution_count": 5,
   "metadata": {
    "scrolled": true
   },
   "outputs": [
    {
     "name": "stdout",
     "output_type": "stream",
     "text": [
      "<class 'pandas.core.frame.DataFrame'>\n",
      "RangeIndex: 126768 entries, 0 to 126767\n",
      "Data columns (total 38 columns):\n",
      "Match                        126768 non-null int64\n",
      "Date                         126768 non-null object\n",
      "Innings                      126768 non-null int64\n",
      "Over                         126768 non-null int64\n",
      "Runs                         126768 non-null int64\n",
      "Total.Runs                   126768 non-null int64\n",
      "Innings.Total.Runs           126768 non-null int64\n",
      "Runs.Remaining               126768 non-null int64\n",
      "Total.Out                    126768 non-null int64\n",
      "Innings.Total.Out            126768 non-null int64\n",
      "Outs.Remaining               126768 non-null int64\n",
      "Wickets.in.Hand              126768 non-null int64\n",
      "Run.Rate                     126768 non-null float64\n",
      "Innings.Run.Rate             126768 non-null float64\n",
      "Run.Rate.Required            125659 non-null float64\n",
      "Initial.Run.Rate.Required    126768 non-null float64\n",
      "Target.Score                 126768 non-null int64\n",
      "Day-night                    126768 non-null int64\n",
      "At.Bat                       126768 non-null object\n",
      "Fielding                     126768 non-null object\n",
      "Home.Team                    126768 non-null object\n",
      "Away.Team                    126768 non-null object\n",
      "Stadium                      126768 non-null object\n",
      "Country                      126768 non-null object\n",
      "Total.Overs                  126768 non-null int64\n",
      "Winning.Team                 126768 non-null object\n",
      "Toss.Winner                  126768 non-null object\n",
      "at.bat.wins                  126768 non-null int64\n",
      "at.bat.won.toss              126768 non-null int64\n",
      "at.bat.at.home               126768 non-null int64\n",
      "at.bat.bat.first             126768 non-null int64\n",
      "chose_bat_1st                126768 non-null int64\n",
      "chose_bat_2nd                126768 non-null int64\n",
      "forced_bat_1st               126768 non-null int64\n",
      "forced_bat_2nd               126768 non-null int64\n",
      "new.game                     126768 non-null int64\n",
      "Error.In.Data                126768 non-null int64\n",
      "common.support               126768 non-null int64\n",
      "dtypes: float64(4), int64(25), object(9)\n",
      "memory usage: 36.8+ MB\n"
     ]
    }
   ],
   "source": [
    "# Shape == non null values there for No null values involved but run rate has null values\n",
    "data.info()"
   ]
  },
  {
   "cell_type": "raw",
   "metadata": {},
   "source": [
    "From above cells, Conclusions are\n",
    "1. Null values are present in the 'runrate' columns, so ignore the runrate feature. However it is not important.\n",
    "and it is a derived quantity from the overs and runs\n",
    "2. No null values are present other than the 'runrate'"
   ]
  },
  {
   "cell_type": "markdown",
   "metadata": {},
   "source": [
    "# PartA - Strategy for first 10 overs to successfully chase target 300"
   ]
  },
  {
   "cell_type": "markdown",
   "metadata": {},
   "source": [
    "# Method-1 (PartA) - Descriptive stastics"
   ]
  },
  {
   "cell_type": "code",
   "execution_count": 6,
   "metadata": {},
   "outputs": [],
   "source": [
    "'''\n",
    "Feature selection: I am picking out features which are required.\n",
    "Note that some features are dervied features and ignore them.\n",
    "'''\n",
    "q1_data = data[['Match', 'Innings', 'Over', 'Runs', 'Total.Runs', 'at.bat.wins','Innings.Total.Runs',\n",
    "                'Target.Score']]"
   ]
  },
  {
   "cell_type": "code",
   "execution_count": 7,
   "metadata": {
    "scrolled": true
   },
   "outputs": [
    {
     "data": {
      "text/html": [
       "<div>\n",
       "<style scoped>\n",
       "    .dataframe tbody tr th:only-of-type {\n",
       "        vertical-align: middle;\n",
       "    }\n",
       "\n",
       "    .dataframe tbody tr th {\n",
       "        vertical-align: top;\n",
       "    }\n",
       "\n",
       "    .dataframe thead th {\n",
       "        text-align: right;\n",
       "    }\n",
       "</style>\n",
       "<table border=\"1\" class=\"dataframe\">\n",
       "  <thead>\n",
       "    <tr style=\"text-align: right;\">\n",
       "      <th></th>\n",
       "      <th>Match</th>\n",
       "      <th>Innings</th>\n",
       "      <th>Over</th>\n",
       "      <th>Runs</th>\n",
       "      <th>Total.Runs</th>\n",
       "      <th>at.bat.wins</th>\n",
       "      <th>Innings.Total.Runs</th>\n",
       "      <th>Target.Score</th>\n",
       "    </tr>\n",
       "  </thead>\n",
       "  <tbody>\n",
       "    <tr>\n",
       "      <th>0</th>\n",
       "      <td>65193</td>\n",
       "      <td>1</td>\n",
       "      <td>1</td>\n",
       "      <td>4</td>\n",
       "      <td>4</td>\n",
       "      <td>0</td>\n",
       "      <td>204</td>\n",
       "      <td>-1</td>\n",
       "    </tr>\n",
       "    <tr>\n",
       "      <th>1</th>\n",
       "      <td>65193</td>\n",
       "      <td>1</td>\n",
       "      <td>2</td>\n",
       "      <td>2</td>\n",
       "      <td>6</td>\n",
       "      <td>0</td>\n",
       "      <td>204</td>\n",
       "      <td>-1</td>\n",
       "    </tr>\n",
       "    <tr>\n",
       "      <th>2</th>\n",
       "      <td>65193</td>\n",
       "      <td>1</td>\n",
       "      <td>3</td>\n",
       "      <td>3</td>\n",
       "      <td>9</td>\n",
       "      <td>0</td>\n",
       "      <td>204</td>\n",
       "      <td>-1</td>\n",
       "    </tr>\n",
       "    <tr>\n",
       "      <th>3</th>\n",
       "      <td>65193</td>\n",
       "      <td>1</td>\n",
       "      <td>4</td>\n",
       "      <td>2</td>\n",
       "      <td>20</td>\n",
       "      <td>0</td>\n",
       "      <td>204</td>\n",
       "      <td>-1</td>\n",
       "    </tr>\n",
       "    <tr>\n",
       "      <th>4</th>\n",
       "      <td>65193</td>\n",
       "      <td>1</td>\n",
       "      <td>5</td>\n",
       "      <td>6</td>\n",
       "      <td>37</td>\n",
       "      <td>0</td>\n",
       "      <td>204</td>\n",
       "      <td>-1</td>\n",
       "    </tr>\n",
       "  </tbody>\n",
       "</table>\n",
       "</div>"
      ],
      "text/plain": [
       "   Match  Innings  Over  Runs  Total.Runs  at.bat.wins  Innings.Total.Runs  \\\n",
       "0  65193        1     1     4           4            0                 204   \n",
       "1  65193        1     2     2           6            0                 204   \n",
       "2  65193        1     3     3           9            0                 204   \n",
       "3  65193        1     4     2          20            0                 204   \n",
       "4  65193        1     5     6          37            0                 204   \n",
       "\n",
       "   Target.Score  \n",
       "0            -1  \n",
       "1            -1  \n",
       "2            -1  \n",
       "3            -1  \n",
       "4            -1  "
      ]
     },
     "execution_count": 7,
     "metadata": {},
     "output_type": "execute_result"
    }
   ],
   "source": [
    "q1_data.head()"
   ]
  },
  {
   "cell_type": "code",
   "execution_count": 8,
   "metadata": {},
   "outputs": [],
   "source": [
    "# Get the individual matches id\n",
    "\n",
    "matches = np.unique(q1_data.Match)"
   ]
  },
  {
   "cell_type": "code",
   "execution_count": 9,
   "metadata": {},
   "outputs": [],
   "source": [
    "# Creating match_dict in which keys are match_id and values are dataframe of that match\n",
    "\n",
    "match_dict = {}\n",
    "winnings = 0 # Counting the number of wins with constraints added on it\n",
    "for i in range(len(matches)):\n",
    "    match_id = 'match' + str(i+1)\n",
    "    # match_data has only second innings data and batting in the second innings won\n",
    "    match_data = q1_data[q1_data.Match == matches[i]][q1_data.Innings == 2][q1_data['at.bat.wins'] == 1]\n",
    "    # Here collecting data only if target is in between 300 and 320\n",
    "    if (q1_data[q1_data.Match == matches[i]][q1_data.Innings == 1]['Innings.Total.Runs'].iloc[0] >= 300):\n",
    "        if (q1_data[q1_data.Match == matches[i]][q1_data.Innings == 1]['Innings.Total.Runs'].iloc[0] <= 330):\n",
    "            match_dict.update({match_id: match_data})\n",
    "            winnings += 1\n",
    "            "
   ]
  },
  {
   "cell_type": "code",
   "execution_count": 10,
   "metadata": {},
   "outputs": [
    {
     "data": {
      "text/plain": [
       "140"
      ]
     },
     "execution_count": 10,
     "metadata": {},
     "output_type": "execute_result"
    }
   ],
   "source": [
    "# No of winnings matches in the second innings\n",
    "\n",
    "winnings"
   ]
  },
  {
   "cell_type": "code",
   "execution_count": 11,
   "metadata": {},
   "outputs": [],
   "source": [
    "# Now collecting the keys which are match_id's\n",
    "\n",
    "winnings_keys = list(match_dict.keys())"
   ]
  },
  {
   "cell_type": "code",
   "execution_count": 12,
   "metadata": {},
   "outputs": [],
   "source": [
    "runs_1 = []\n",
    "runs_2 = []\n",
    "runs_3 = []\n",
    "runs_4 = []\n",
    "runs_5 = []\n",
    "runs_6 = []\n",
    "runs_7 = []\n",
    "runs_8 = []\n",
    "runs_9 = []\n",
    "runs_10 = []\n",
    "for i in winnings_keys:\n",
    "    take_data = match_dict[i]\n",
    "    if take_data.shape[0] < 10:\n",
    "        continue\n",
    "    runs_1 += [take_data.Runs.iloc[0]]\n",
    "    runs_2 += [take_data.Runs.iloc[1]]\n",
    "    runs_3 += [take_data.Runs.iloc[2]]\n",
    "    runs_4 += [take_data.Runs.iloc[3]]\n",
    "    runs_5 += [take_data.Runs.iloc[4]]\n",
    "    runs_6 += [take_data.Runs.iloc[5]]\n",
    "    runs_7 += [take_data.Runs.iloc[6]]\n",
    "    runs_8 += [take_data.Runs.iloc[7]]\n",
    "    runs_9 += [take_data.Runs.iloc[8]]\n",
    "    runs_10 += [take_data.Runs.iloc[9]]"
   ]
  },
  {
   "cell_type": "code",
   "execution_count": 13,
   "metadata": {},
   "outputs": [],
   "source": [
    "mean_runrate = (np.mean(runs_1) + np.mean(runs_2) + np.mean(runs_3) + np.mean(runs_4) + np.mean(runs_5)\\\n",
    "+ np.mean(runs_6)+ np.mean(runs_7) + np.mean(runs_8)+ np.mean(runs_9)+ np.mean(runs_10))/10"
   ]
  },
  {
   "cell_type": "code",
   "execution_count": 14,
   "metadata": {},
   "outputs": [
    {
     "data": {
      "text/plain": [
       "6.885185185185184"
      ]
     },
     "execution_count": 14,
     "metadata": {},
     "output_type": "execute_result"
    }
   ],
   "source": [
    "mean_runrate"
   ]
  },
  {
   "cell_type": "code",
   "execution_count": 15,
   "metadata": {},
   "outputs": [],
   "source": [
    "median_runrate = (np.median(runs_1) + np.median(runs_2) + np.median(runs_3) + np.median(runs_4) +\\\n",
    "                  np.median(runs_5)+ np.median(runs_6)+ np.median(runs_7) + np.median(runs_8)+\\\n",
    "                  np.median(runs_9)+ np.median(runs_10))/10"
   ]
  },
  {
   "cell_type": "code",
   "execution_count": 16,
   "metadata": {},
   "outputs": [
    {
     "data": {
      "text/plain": [
       "6.4"
      ]
     },
     "execution_count": 16,
     "metadata": {},
     "output_type": "execute_result"
    }
   ],
   "source": [
    "median_runrate"
   ]
  },
  {
   "cell_type": "raw",
   "metadata": {},
   "source": [
    "Answer for Part A using method-1:\n",
    "---------------------------------\n",
    "So, Run-rate be maintained in first 10 overs should be greater than mean_runrate = 6.885185185185184, \n",
    "median_runrate = 6.4.\n",
    "we can give some strategies for each over also\n",
    "Runs in 1st Over should be greater than or equal to 5.333333333333333\n",
    "Runs in 2nd Over should be greater than or equal to 5.481481481481482\n",
    "Runs in 3rd Over should be greater than or equal to 7.37037037037037\n",
    "Runs in 4th Over should be greater than or equal to 6.333333333333333\n",
    "Runs in 5th Over should be greater than or equal to 7.037037037037037\n",
    "Runs in 6th Over should be greater than or equal to 8.185185185185185\n",
    "Runs in 7th Over should be greater than or equal to 7.37037037037037\n",
    "Runs in 8th Over should be greater than or equal to 6.7407407407407405\n",
    "Runs in 9th Over should be greater than or equal to 6.222222222222222\n",
    "Runs in 10th Over should be greater than or equal to 8.777777777777779"
   ]
  },
  {
   "cell_type": "markdown",
   "metadata": {},
   "source": [
    "# Method-2 (Part-A)- Linear Regression"
   ]
  },
  {
   "cell_type": "code",
   "execution_count": 17,
   "metadata": {},
   "outputs": [],
   "source": [
    "# Creating match_dict in which keys are match_id and values are dataframe of that match\n",
    "match_dict = {}\n",
    "winnings = 0 # Counting the number of wins with constraints added on it\n",
    "for i in range(len(matches)):\n",
    "    match_id = 'match' + str(i+1)\n",
    "    # match_data has only second innings data and batting in the second innings won\n",
    "    match_data = q1_data[q1_data.Match == matches[i]][q1_data.Innings == 2][q1_data['at.bat.wins'] == 1]\n",
    "    match_dict.update({match_id: match_data})\n",
    "    winnings += 1"
   ]
  },
  {
   "cell_type": "code",
   "execution_count": 18,
   "metadata": {},
   "outputs": [
    {
     "data": {
      "text/plain": [
       "1423"
      ]
     },
     "execution_count": 18,
     "metadata": {},
     "output_type": "execute_result"
    }
   ],
   "source": [
    "winnings"
   ]
  },
  {
   "cell_type": "code",
   "execution_count": 19,
   "metadata": {},
   "outputs": [],
   "source": [
    "winnings_keys = list(match_dict.keys())"
   ]
  },
  {
   "cell_type": "code",
   "execution_count": 20,
   "metadata": {},
   "outputs": [],
   "source": [
    "# Fit the linear line between the target and the runrate at the 10th over of the winning data\n",
    "\n",
    "# Collect the data of 10th over runrate which can be derived from the total runs and the over which is 10th.\n",
    "run_rate_10 = []\n",
    "target = []\n",
    "for i in winnings_keys:\n",
    "    take_data = match_dict[i]\n",
    "    if take_data.shape[0] < 10:\n",
    "        continue\n",
    "    run_rate_10 += [take_data['Total.Runs'].iloc[9]/10]\n",
    "    target += [take_data['Target.Score'].iloc[0]]"
   ]
  },
  {
   "cell_type": "code",
   "execution_count": 21,
   "metadata": {},
   "outputs": [
    {
     "data": {
      "text/plain": [
       "<matplotlib.collections.PathCollection at 0x7faf0250d4a8>"
      ]
     },
     "execution_count": 21,
     "metadata": {},
     "output_type": "execute_result"
    }
   ],
   "source": [
    "import matplotlib.pyplot as plt\n",
    "plt.scatter(target, run_rate_10)"
   ]
  },
  {
   "cell_type": "code",
   "execution_count": 22,
   "metadata": {},
   "outputs": [
    {
     "data": {
      "text/plain": [
       "LinearRegression(copy_X=True, fit_intercept=True, n_jobs=None, normalize=False)"
      ]
     },
     "execution_count": 22,
     "metadata": {},
     "output_type": "execute_result"
    }
   ],
   "source": [
    "# Apply linear regression\n",
    "from sklearn.linear_model import LinearRegression\n",
    "regressor = LinearRegression()\n",
    "target_mean = np.mean(target)\n",
    "run_rate_mean = np.mean(run_rate_10)\n",
    "target_shifted = target - np.mean(target)\n",
    "run_rate_shifted = run_rate_10 - np.mean(run_rate_10)\n",
    "\n",
    "X = pd.Series(target_shifted).ravel().reshape(-1,1)\n",
    "Y = pd.Series(run_rate_shifted).ravel().reshape(-1,1)\n",
    "regressor.fit(X,Y)"
   ]
  },
  {
   "cell_type": "code",
   "execution_count": 23,
   "metadata": {},
   "outputs": [],
   "source": [
    "Y_pred = regressor.predict(Y)"
   ]
  },
  {
   "cell_type": "code",
   "execution_count": 24,
   "metadata": {},
   "outputs": [
    {
     "data": {
      "text/plain": [
       "<matplotlib.collections.PathCollection at 0x7faefa4f1860>"
      ]
     },
     "execution_count": 24,
     "metadata": {},
     "output_type": "execute_result"
    },
    {
     "data": {
      "image/png": "[encoded data removed]",
      "text/plain": [
       "<Figure size 432x288 with 1 Axes>"
      ]
     },
     "metadata": {
      "needs_background": "light"
     },
     "output_type": "display_data"
    }
   ],
   "source": [
    "plt.scatter(X,Y, color = 'blue')\n",
    "plt.scatter(X,Y_pred, color = 'red')"
   ]
  },
  {
   "cell_type": "code",
   "execution_count": 25,
   "metadata": {},
   "outputs": [],
   "source": [
    "# Now predict for Target score of 300\n",
    "x_test = (300 - target_mean).reshape(-1,1)\n",
    "y_test = regressor.predict(x_test)"
   ]
  },
  {
   "cell_type": "code",
   "execution_count": 26,
   "metadata": {},
   "outputs": [],
   "source": [
    "run_rate_maintained = y_test + run_rate_mean"
   ]
  },
  {
   "cell_type": "code",
   "execution_count": 27,
   "metadata": {},
   "outputs": [
    {
     "data": {
      "text/plain": [
       "array([[5.58228413]])"
      ]
     },
     "execution_count": 27,
     "metadata": {},
     "output_type": "execute_result"
    }
   ],
   "source": [
    "run_rate_maintained"
   ]
  },
  {
   "cell_type": "raw",
   "metadata": {},
   "source": [
    "Answer for Part-A using Linear regression model:\n",
    "------------------------------------------------\n",
    "\n",
    "From the linear regression model, we can suggest that run-rate to be maintained at the end of 10 overs is 5.58228413 runs per over.\n",
    "Note: As dataset is small, train_test_split has not been implemented"
   ]
  },
  {
   "cell_type": "markdown",
   "metadata": {},
   "source": [
    "# PartB - Best strategy after 10overs  50-2"
   ]
  },
  {
   "cell_type": "code",
   "execution_count": 28,
   "metadata": {},
   "outputs": [],
   "source": [
    "# Currently India at 50-2, so remaining runs is 250. Now consider columns which has remaining runs\n",
    "'''\n",
    "Part_B\n",
    "Feature selection: I am choosing features from the given 38 features\n",
    "'''\n",
    "q2_data = data[['Match', 'Innings', 'Over', 'Runs', 'Total.Runs', 'at.bat.wins',\n",
    "                'Winning.Team', 'Innings.Total.Runs', 'Outs.Remaining', 'Runs.Remaining','Target.Score']]"
   ]
  },
  {
   "cell_type": "code",
   "execution_count": 29,
   "metadata": {},
   "outputs": [],
   "source": [
    "matches_q2 = np.unique(q2_data.Match)"
   ]
  },
  {
   "cell_type": "code",
   "execution_count": 30,
   "metadata": {},
   "outputs": [],
   "source": [
    "match_q2_dict = {}\n",
    "winnings_q2 = 0\n",
    "for i in range(len(matches_q2)):\n",
    "    match_id = 'match' + str(i+1)\n",
    "    match_data = q2_data[q2_data.Match == matches_q2[i]][q2_data.Innings == 2][q2_data['at.bat.wins'] == 1]\n",
    "    \n",
    "    if (q2_data[q2_data.Match == matches_q2[i]][q2_data.Innings == 1]['Innings.Total.Runs'].iloc[0] >= 300):\n",
    "        if (q2_data[q2_data.Match == matches_q2[i]][q2_data.Innings == 1]['Innings.Total.Runs'].iloc[0] <= 330):\n",
    "            if (q2_data[q2_data.Match == matches_q2[i]]['Runs.Remaining'].iloc[10] >= 250):\n",
    "                if (q2_data[q2_data.Match == matches_q2[i]]['Runs.Remaining'].iloc[10] <= 270):\n",
    "                    if q2_data[q2_data.Match == matches_q2[i]]['Outs.Remaining'].iloc[0] >= 6:\n",
    "                        if q2_data[q2_data.Match == matches_q2[i]]['Outs.Remaining'].iloc[0] >= 8:\n",
    "                            match_q2_dict.update({match_id: match_data})\n",
    "                            winnings_q2 += 1"
   ]
  },
  {
   "cell_type": "code",
   "execution_count": 31,
   "metadata": {},
   "outputs": [
    {
     "data": {
      "text/plain": [
       "18"
      ]
     },
     "execution_count": 31,
     "metadata": {},
     "output_type": "execute_result"
    }
   ],
   "source": [
    "winnings_q2"
   ]
  },
  {
   "cell_type": "code",
   "execution_count": 32,
   "metadata": {},
   "outputs": [],
   "source": [
    "winnings_q2_keys = list(match_q2_dict.keys())"
   ]
  },
  {
   "cell_type": "code",
   "execution_count": 33,
   "metadata": {},
   "outputs": [],
   "source": [
    "runs_11 = []\n",
    "runs_12 = []\n",
    "runs_13 = []\n",
    "runs_14 = []\n",
    "runs_15 = []\n",
    "runs_16 = []\n",
    "runs_17 = []\n",
    "runs_18 = []\n",
    "runs_19 = []\n",
    "runs_20 = []\n",
    "for i in winnings_q2_keys:\n",
    "    take_data = match_q2_dict[i]\n",
    "    if take_data.shape[0] < 20:\n",
    "        continue\n",
    "    runs_11 += [take_data.Runs.iloc[0]]\n",
    "    runs_12 += [take_data.Runs.iloc[1]]\n",
    "    runs_13 += [take_data.Runs.iloc[2]]\n",
    "    runs_14 += [take_data.Runs.iloc[3]]\n",
    "    runs_15 += [take_data.Runs.iloc[4]]\n",
    "    runs_16 += [take_data.Runs.iloc[5]]\n",
    "    runs_17 += [take_data.Runs.iloc[6]]\n",
    "    runs_18 += [take_data.Runs.iloc[7]]\n",
    "    runs_19 += [take_data.Runs.iloc[8]]\n",
    "    runs_20 += [take_data.Runs.iloc[9]]"
   ]
  },
  {
   "cell_type": "code",
   "execution_count": 34,
   "metadata": {},
   "outputs": [],
   "source": [
    "mean_runrate_q2 = (np.mean(runs_11) + np.mean(runs_12) + np.mean(runs_13) + np.mean(runs_14) + np.mean(runs_15)\\\n",
    "+ np.mean(runs_16)+ np.mean(runs_17) + np.mean(runs_18)+ np.mean(runs_19)+ np.mean(runs_20))/10"
   ]
  },
  {
   "cell_type": "code",
   "execution_count": 35,
   "metadata": {},
   "outputs": [
    {
     "data": {
      "text/plain": [
       "6.840000000000001"
      ]
     },
     "execution_count": 35,
     "metadata": {},
     "output_type": "execute_result"
    }
   ],
   "source": [
    "mean_runrate_q2"
   ]
  },
  {
   "cell_type": "code",
   "execution_count": 36,
   "metadata": {},
   "outputs": [],
   "source": [
    "median_runrate_q2 = (np.median(runs_11) + np.median(runs_12) + np.median(runs_13) + np.median(runs_14) +\\\n",
    "                  np.median(runs_15)+ np.median(runs_16)+ np.median(runs_17) + np.median(runs_18)+\\\n",
    "                  np.median(runs_19)+ np.median(runs_20))/10"
   ]
  },
  {
   "cell_type": "code",
   "execution_count": 37,
   "metadata": {},
   "outputs": [
    {
     "data": {
      "text/plain": [
       "6.6"
      ]
     },
     "execution_count": 37,
     "metadata": {},
     "output_type": "execute_result"
    }
   ],
   "source": [
    "median_runrate_q2"
   ]
  },
  {
   "cell_type": "code",
   "execution_count": 38,
   "metadata": {},
   "outputs": [
    {
     "data": {
      "text/plain": [
       "10.2"
      ]
     },
     "execution_count": 38,
     "metadata": {},
     "output_type": "execute_result"
    }
   ],
   "source": [
    "np.mean(runs_20)"
   ]
  },
  {
   "cell_type": "raw",
   "metadata": {},
   "source": [
    "Answer for Part B using method-1(Descrpitive Statistics):\n",
    "---------------------------------\n",
    "So, Run-rate be maintained in first 10 overs should be greater than mean_runrate = 6.840000000000001, \n",
    "median_runrate = 6.6.\n",
    "we can give some strategies for each over also\n",
    "Runs in 11th Over should be greater than or equal to 6.6\n",
    "Runs in 12th Over should be greater than or equal to 5.2\n",
    "Runs in 13th Over should be greater than or equal to 5.0\n",
    "Runs in 14th Over should be greater than or equal to 8.4\n",
    "Runs in 15th Over should be greater than or equal to 8.0\n",
    "Runs in 16th Over should be greater than or equal to 7.2\n",
    "Runs in 17th Over should be greater than or equal to 5.8\n",
    "Runs in 18th Over should be greater than or equal to 7.4\n",
    "Runs in 19th Over should be greater than or equal to 4.6\n",
    "Runs in 20th Over should be greater than or equal to 10.2"
   ]
  },
  {
   "cell_type": "markdown",
   "metadata": {},
   "source": [
    "# Part-B: Method-2(Linear regression)"
   ]
  },
  {
   "cell_type": "code",
   "execution_count": 39,
   "metadata": {},
   "outputs": [],
   "source": [
    "match_q2_dict = {}\n",
    "winnings_q2 = 0\n",
    "rem_target_q2 = []\n",
    "wickets_fallen = []\n",
    "target_q2 = []\n",
    "\n",
    "for i in range(len(matches_q2)):\n",
    "    match_id = 'match' + str(i+1)\n",
    "    match_data = q2_data[q2_data.Match == matches_q2[i]][q2_data.Innings == 2][q2_data['at.bat.wins'] == 1]\n",
    "    match_q2_dict.update({match_id: match_data})\n",
    "    winnings_q2 += 1"
   ]
  },
  {
   "cell_type": "code",
   "execution_count": 40,
   "metadata": {},
   "outputs": [
    {
     "data": {
      "text/plain": [
       "1423"
      ]
     },
     "execution_count": 40,
     "metadata": {},
     "output_type": "execute_result"
    }
   ],
   "source": [
    "winnings_q2"
   ]
  },
  {
   "cell_type": "code",
   "execution_count": 41,
   "metadata": {},
   "outputs": [],
   "source": [
    "winnings_q2_keys = list(match_q2_dict.keys())"
   ]
  },
  {
   "cell_type": "code",
   "execution_count": 42,
   "metadata": {},
   "outputs": [],
   "source": [
    "# Fit the linear line between the target and the runrate at the 10th over of the winning data\n",
    "\n",
    "# Collect the data of 10th over runrate which can be derived from the total runs and the over which is 10th.\n",
    "run_rate_20 = []\n",
    "rem_target = []\n",
    "rem_wickets = []\n",
    "shape = []\n",
    "for i in winnings_keys:\n",
    "    take_data = match_q2_dict[i]\n",
    "    shape += [take_data.shape[0]]\n",
    "    if take_data.shape[0] < 20:\n",
    "        continue\n",
    "    run_rate_20 += [take_data['Total.Runs'].iloc[19]/20]\n",
    "    rem_target += [take_data['Target.Score'].iloc[0] - take_data['Total.Runs'].iloc[9]]\n",
    "    rem_wickets += [take_data['Outs.Remaining'].iloc[9]] "
   ]
  },
  {
   "cell_type": "code",
   "execution_count": 43,
   "metadata": {},
   "outputs": [],
   "source": [
    "runrate20_mean = np.mean(run_rate_20)\n",
    "rem_target_mean = np.mean(rem_target)\n",
    "rem_wickets_mean = np.mean(rem_wickets)"
   ]
  },
  {
   "cell_type": "code",
   "execution_count": 44,
   "metadata": {},
   "outputs": [],
   "source": [
    "runrate20_shifted = run_rate_20 - runrate20_mean\n",
    "rem_target_shifted = rem_target - rem_target_mean\n",
    "rem_wickets_shifted = rem_wickets - rem_wickets_mean"
   ]
  },
  {
   "cell_type": "code",
   "execution_count": 45,
   "metadata": {},
   "outputs": [],
   "source": [
    "# Fit the linear regression with the features as remaining runs and remaining wickets and y as run_rate_20\n",
    "\n",
    "Y = pd.Series(runrate20_shifted).ravel().reshape(-1,1)"
   ]
  },
  {
   "cell_type": "code",
   "execution_count": 46,
   "metadata": {},
   "outputs": [],
   "source": [
    "X1 = pd.Series(rem_target_shifted).ravel().reshape(-1,1)\n",
    "X2 = pd.Series(rem_wickets_shifted).ravel().reshape(-1,1)"
   ]
  },
  {
   "cell_type": "code",
   "execution_count": 47,
   "metadata": {},
   "outputs": [],
   "source": [
    "X = np.concatenate((X1, X2), axis = 1)"
   ]
  },
  {
   "cell_type": "code",
   "execution_count": 48,
   "metadata": {},
   "outputs": [
    {
     "data": {
      "text/plain": [
       "LinearRegression(copy_X=True, fit_intercept=True, n_jobs=None, normalize=False)"
      ]
     },
     "execution_count": 48,
     "metadata": {},
     "output_type": "execute_result"
    }
   ],
   "source": [
    "# Apply linear regression\n",
    "from sklearn.linear_model import LinearRegression\n",
    "lin = LinearRegression()\n",
    "lin.fit(X,Y)"
   ]
  },
  {
   "cell_type": "code",
   "execution_count": 49,
   "metadata": {},
   "outputs": [],
   "source": [
    "Y_pred = lin.predict(X)"
   ]
  },
  {
   "cell_type": "code",
   "execution_count": 50,
   "metadata": {},
   "outputs": [],
   "source": [
    "# Now predicting at 10 th over is 50-2, remaining target is 250\n",
    "rem_target_test = np.array([250 - rem_target_mean])\n",
    "rem_wickets_test = np.array([8 - rem_wickets_mean])\n",
    "X_test =np.transpose(np.array([rem_target_test, rem_wickets_test]))\n",
    "prediction = lin.predict(X_test) + runrate20_mean"
   ]
  },
  {
   "cell_type": "code",
   "execution_count": 51,
   "metadata": {},
   "outputs": [
    {
     "data": {
      "text/plain": [
       "array([[4.85569116]])"
      ]
     },
     "execution_count": 51,
     "metadata": {},
     "output_type": "execute_result"
    }
   ],
   "source": [
    "prediction"
   ]
  },
  {
   "cell_type": "raw",
   "metadata": {},
   "source": [
    "Answer for PartB using Method-2:\n",
    "--------------------------------\n",
    "By linear regression, run rate to be maintained at the end of 20th over is around 5. But descriptive statistics explained more about the prediction"
   ]
  },
  {
   "cell_type": "code",
   "execution_count": null,
   "metadata": {},
   "outputs": [],
   "source": []
  }
 ],
 "metadata": {
  "kernelspec": {
   "display_name": "Python 3",
   "language": "python",
   "name": "python3"
  },
  "language_info": {
   "codemirror_mode": {
    "name": "ipython",
    "version": 3
   },
   "file_extension": ".py",
   "mimetype": "text/x-python",
   "name": "python",
   "nbconvert_exporter": "python",
   "pygments_lexer": "ipython3",
   "version": "3.7.3"
  }
 },
 "nbformat": 4,
 "nbformat_minor": 2
}

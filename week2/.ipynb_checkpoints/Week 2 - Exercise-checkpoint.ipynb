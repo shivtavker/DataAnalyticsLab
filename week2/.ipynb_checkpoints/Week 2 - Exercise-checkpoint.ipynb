{
 "cells": [
  {
   "cell_type": "raw",
   "metadata": {},
   "source": [
    "You are given cricket dataset with information collected about real ODI matches played over past few years. \n",
    "Since you are a data scientist, you decided to apply for a role in BCCI and help India with strategies to win a match.\n",
    "\n",
    "The first innings has been played and target is 300 to be chased by India.\n",
    "\n",
    "1. What is the best strategy (run rate) for first 10 overs to win the match? Justify and support your answer with empirical evidence.\n",
    "\n",
    "2. Currently India is at 50-2 (50 runs and lost 2 wickets) at the end of 10 overs. What is the best strategy for 11-20 overs?"
   ]
  },
  {
   "cell_type": "code",
   "execution_count": 17,
   "metadata": {},
   "outputs": [],
   "source": [
    "import numpy as np\n",
    "import pandas as pd\n",
    "df=pd.read_csv('04_cricket_1999to2011.csv')\n",
    "import warnings\n",
    "warnings.filterwarnings(\"ignore\")\n",
    "# CHeck Columns\n",
    "# print(df.columns)"
   ]
  },
  {
   "cell_type": "markdown",
   "metadata": {},
   "source": [
    "### Linear Regression \n",
    "We are performing a Linear regression between total score to be made and run rate in first 10 Overs. Following is the code for the same:"
   ]
  },
  {
   "cell_type": "code",
   "execution_count": 18,
   "metadata": {},
   "outputs": [
    {
     "name": "stdout",
     "output_type": "stream",
     "text": [
      "Run Rate for first 10 Overs:  5.526807898058862\n"
     ]
    }
   ],
   "source": [
    "df3=df[df['Innings']==2]\n",
    "df1=df3[df3['at.bat.wins']==1]\n",
    "\n",
    "df2=pd.DataFrame({'match':[],'Run_rate_in_10_overs':[],'total_runs':[]})\n",
    "matches=np.unique(df1['Match'])\n",
    "for i in matches:\n",
    "    df_temp=df1[df1['Match']==i]\n",
    "    match=i\n",
    "    Run_rate_in_10_overs=df_temp[df_temp['Over']==10]['Total.Runs'].values/10.0\n",
    "    total_runs=df_temp['Innings.Total.Runs'].iloc[0]\n",
    "    df2=df2.append(pd.DataFrame({'match':match,'Run_rate_in_10_overs':Run_rate_in_10_overs,'total_runs':total_runs}),ignore_index=True)\n",
    "\n",
    "from sklearn.linear_model import LinearRegression\n",
    "y = np.asarray(df2['Run_rate_in_10_overs'].values).reshape(df2.shape[0],1)\n",
    "X = np.asarray(df2['total_runs'].values).reshape(df2.shape[0],1)\n",
    "reg = LinearRegression().fit(X, y)\n",
    "m=reg.coef_\n",
    "c=reg.intercept_ \n",
    "p=reg.predict([[300]])\n",
    "print(\"Run Rate for first 10 Overs: \", p[0][0])"
   ]
  },
  {
   "cell_type": "markdown",
   "metadata": {},
   "source": [
    "For 11-20 overs we are again using the same thing but this time we have decreased the score to be made and wickets in hand"
   ]
  },
  {
   "cell_type": "code",
   "execution_count": 19,
   "metadata": {},
   "outputs": [
    {
     "name": "stdout",
     "output_type": "stream",
     "text": [
      "Run Rate for 11-20 Overs:  4.781438103942163\n"
     ]
    }
   ],
   "source": [
    "df2=pd.DataFrame({'match':[],'Run_rate_in_11-20_overs':[],'remaining_runs':[],'wickets_in_hand':[]})\n",
    "matches=np.unique(df1['Match'])\n",
    "for i in matches:\n",
    "    df_temp=df1[df1['Match']==i]\n",
    "    if (np.sum(df_temp['Over']==20)):\n",
    "        match=i\n",
    "        wickets=df_temp[df_temp['Over']==11]['Wickets.in.Hand']\n",
    "        Run_rate_in_1120_overs=(df_temp[df_temp['Over']==20]['Total.Runs'].values-df_temp[df_temp['Over']==10]['Total.Runs'].values)/10.0\n",
    "        remaining_runs=df_temp['Innings.Total.Runs'].iloc[0]-50\n",
    "        df2=df2.append(pd.DataFrame({'match':match,'Run_rate_in_11-20_overs':Run_rate_in_1120_overs,'remaining_runs':remaining_runs,'wickets_in_hand':wickets}),ignore_index=True)\n",
    "\n",
    "\n",
    "# from sklearn.linear_model import LinearRegression\n",
    "from sklearn.preprocessing import MinMaxScaler\n",
    "scaler1= MinMaxScaler(feature_range=(-1, 1))\n",
    "scaler2=MinMaxScaler(feature_range=(-1, 1))\n",
    "scaler3=MinMaxScaler(feature_range=(-1, 1))\n",
    "df2['Run_rate_in_11-20_overs']=scaler1.fit_transform(np.asarray(df2['Run_rate_in_11-20_overs'].values).reshape(df2.shape[0],1))\n",
    "df2['remaining_runs']=scaler2.fit_transform(np.asarray(df2['remaining_runs'].values).reshape(df2.shape[0],1))\n",
    "df2['wickets_in_hand']=scaler3.fit_transform(np.asarray(df2['wickets_in_hand'].values).reshape(df2.shape[0],1))\n",
    "\n",
    "y = np.asarray(df2['Run_rate_in_11-20_overs'].values).reshape(df2.shape[0],1)\n",
    "X = np.asarray([df2['remaining_runs'].values,df2['wickets_in_hand'].values]).reshape(df2.shape[0],2)\n",
    "a=scaler2.transform([[250]])\n",
    "b=scaler3.transform([[8]])\n",
    "reg = LinearRegression().fit(X, y)\n",
    "m=reg.coef_\n",
    "c=reg.intercept_\n",
    "p=reg.predict([[a[0][0],b[0][0]]])\n",
    "p=scaler1.inverse_transform(p)\n",
    "\n",
    "print(\"Run Rate for 11-20 Overs: \", p[0][0])"
   ]
  },
  {
   "cell_type": "markdown",
   "metadata": {},
   "source": [
    "## Using Average\n",
    "\n",
    "We are finding the average score made in first 10 overs when the target between 295 and 320 was successfully chased. \n",
    "For the second part we filter the matches even further, We are taking average runs made in 11-20 overs who successfully chased the target, had remaining runs between 240-260 after first 10 overs and 8 wickets in hand."
   ]
  },
  {
   "cell_type": "code",
   "execution_count": 20,
   "metadata": {},
   "outputs": [
    {
     "name": "stdout",
     "output_type": "stream",
     "text": [
      "Run Rate during first 10 Overs:  6.517857142857143\n"
     ]
    }
   ],
   "source": [
    "req_data = df[['Match', 'Innings', 'Over', 'Runs', 'Total.Runs', 'at.bat.wins',\n",
    "                'Winning.Team', 'Innings.Total.Runs', 'Outs.Remaining', 'Runs.Remaining','Target.Score']]\n",
    "\n",
    "matches = np.unique(req_data.Match)\n",
    "\n",
    "dict_matches = {}\n",
    "winnings = 0 # Counting the number of wins with constraints added on it\n",
    "for i in range(len(matches)):\n",
    "    match_id = 'match' + str(i+1)\n",
    "    # match_data has only second innings data and batting in the second innings won\n",
    "    match_data = req_data[req_data.Match == matches[i]][req_data.Innings == 2][req_data['at.bat.wins'] == 1]\n",
    "    # Here collecting data only if target is in between 300 and 320\n",
    "    if (req_data[req_data.Match == matches[i]][req_data.Innings == 1]['Innings.Total.Runs'].iloc[0] >= 295):\n",
    "        if (req_data[req_data.Match == matches[i]][req_data.Innings == 1]['Innings.Total.Runs'].iloc[0] <= 320):\n",
    "            dict_matches.update({match_id: match_data})\n",
    "            winnings += 1\n",
    "imp_keys = list(dict_matches.keys())\n",
    "\n",
    "runs = [];\n",
    "for i in imp_keys:\n",
    "    custom_data = dict_matches[i]\n",
    "    if custom_data.shape[0] < 10:\n",
    "        continue\n",
    "    runs += [custom_data.Runs.iloc[0]]\n",
    "    runs += [custom_data.Runs.iloc[1]]\n",
    "    runs += [custom_data.Runs.iloc[2]]\n",
    "    runs += [custom_data.Runs.iloc[3]]\n",
    "    runs += [custom_data.Runs.iloc[4]]\n",
    "    runs += [custom_data.Runs.iloc[5]]\n",
    "    runs += [custom_data.Runs.iloc[6]]\n",
    "    runs += [custom_data.Runs.iloc[7]]\n",
    "    runs += [custom_data.Runs.iloc[8]]\n",
    "    runs += [custom_data.Runs.iloc[9]]\n",
    "\n",
    "run_rate = np.mean(runs)\n",
    "print(\"Run Rate during first 10 Overs: \", run_rate)"
   ]
  },
  {
   "cell_type": "code",
   "execution_count": 21,
   "metadata": {},
   "outputs": [
    {
     "name": "stdout",
     "output_type": "stream",
     "text": [
      "Run Rate during 11-20 Overs:  6.8\n"
     ]
    }
   ],
   "source": [
    "matches = np.unique(req_data.Match)\n",
    "dict_matches = {}\n",
    "winnings = 0\n",
    "for i in range(len(matches)):\n",
    "    match_id = 'match' + str(i+1)\n",
    "    match_data = req_data[req_data.Match == matches[i]][req_data.Innings == 2][req_data['at.bat.wins'] == 1]\n",
    "\n",
    "    if (req_data[req_data.Match == matches[i]]['Runs.Remaining'].iloc[10] >= 240):\n",
    "        if (req_data[req_data.Match == matches[i]]['Runs.Remaining'].iloc[10] <= 260):\n",
    "            if req_data[req_data.Match == matches[i]]['Outs.Remaining'].iloc[0] == 8:\n",
    "                dict_matches.update({match_id: match_data})\n",
    "                winnings += 1\n",
    "                \n",
    "imp_keys = list(dict_matches.keys())\n",
    "\n",
    "runs = [];\n",
    "for i in imp_keys:\n",
    "    custom_data = dict_matches[i]\n",
    "    if custom_data.shape[0] < 10:\n",
    "        continue\n",
    "    runs += [custom_data.Runs.iloc[0]]\n",
    "    runs += [custom_data.Runs.iloc[1]]\n",
    "    runs += [custom_data.Runs.iloc[2]]\n",
    "    runs += [custom_data.Runs.iloc[3]]\n",
    "    runs += [custom_data.Runs.iloc[4]]\n",
    "    runs += [custom_data.Runs.iloc[5]]\n",
    "    runs += [custom_data.Runs.iloc[6]]\n",
    "    runs += [custom_data.Runs.iloc[7]]\n",
    "    runs += [custom_data.Runs.iloc[8]]\n",
    "    runs += [custom_data.Runs.iloc[9]]\n",
    "\n",
    "run_rate = np.mean(runs)\n",
    "print(\"Run Rate during 11-20 Overs: \", run_rate)"
   ]
  }
 ],
 "metadata": {
  "kernelspec": {
   "display_name": "Python 3",
   "language": "python",
   "name": "python3"
  },
  "language_info": {
   "codemirror_mode": {
    "name": "ipython",
    "version": 3
   },
   "file_extension": ".py",
   "mimetype": "text/x-python",
   "name": "python",
   "nbconvert_exporter": "python",
   "pygments_lexer": "ipython3",
   "version": "3.7.3"
  }
 },
 "nbformat": 4,
 "nbformat_minor": 2
}

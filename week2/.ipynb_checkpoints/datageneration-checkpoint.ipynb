{
 "cells": [
  {
   "cell_type": "code",
   "execution_count": 1,
   "metadata": {},
   "outputs": [
    {
     "name": "stdout",
     "output_type": "stream",
     "text": [
      "          x1        x2\n",
      "x1  1.000000 -0.002033\n",
      "x2 -0.002033  1.000000\n"
     ]
    }
   ],
   "source": [
    "import numpy as np\n",
    "import pandas as pd\n",
    "# seeding\n",
    "np.random.seed(42)\n",
    "\n",
    "# Normal distribution with mean=0, standard deviation=2\n",
    "x_gauss = np.random.normal(0,2,1000)\n",
    "np.savetxt(\"data1.txt\", x_gauss)\n",
    "\n",
    "# Uniform distribution with a=0, b=1\n",
    "x_uniform = np.random.uniform(0,1,1000)\n",
    "np.savetxt(\"data2.txt\", x_uniform)\n",
    "\n",
    "# Uniform distribution with a=0, b=1 and with num outliers\n",
    "x_uniform = np.random.uniform(0,1,1000)\n",
    "num=5\n",
    "# adding outliers to the data\n",
    "outliers1 = np.random.uniform(low=1, high=3, size=num)\n",
    "outliers2 = np.random.uniform(low=-3, high=-0.5, size=num)\n",
    "x_uniform = np.append(x_uniform, outliers1)\n",
    "x_uniform = np.append(x_uniform, outliers2)\n",
    "np.random.shuffle(x_uniform)\n",
    "np.savetxt(\"data3.txt\",x_uniform)\n",
    "\n",
    "# Normal distribution with mean=0, standard deviation=2\n",
    "x_gauss1 = np.random.normal(-3,2,1000)\n",
    "x_gauss2 = np.random.normal(3,2,1000)\n",
    "x_gauss = np.append(x_gauss1,x_gauss2)\n",
    "np.savetxt(\"data4.txt\", x_gauss)\n",
    "\n",
    "# for i in range(6) :\n",
    "#     x_cauchy = np.random.standard_cauchy(10*10**i)\n",
    "#     x_gauss = np.random.normal(0,2,10*10**i)\n",
    "#     s = x_cauchy\n",
    "#     s = s[(s>-15) & (s<15)] \n",
    "#     print(np.mean(s),np.mean(x_gauss), np.std(s), np.std(x_gauss))\n",
    "\n",
    "# Standard cauchy distribution with mode=0\n",
    "\n",
    "x_cauchy = np.random.standard_cauchy(1000000)\n",
    "np.savetxt(\"data5.txt\", x_cauchy)\n",
    "\n",
    "x = np.loadtxt(\"data4.txt\")\n",
    "y = np.zeros(x.shape)\n",
    "\n",
    "\n",
    "x1 = np.random.normal(0,2,10000)\n",
    "x2 = np.random.normal(0,0.001,10000)\n",
    "data = {}\n",
    "data[\"x1\"] = x1\n",
    "data[\"x2\"] = x2\n",
    "df = pd.DataFrame.from_dict(data)\n",
    "df.to_csv(\"twodimdata.csv\", index=False)\n",
    "\n",
    "print(df.corr())"
   ]
  },
  {
   "cell_type": "code",
   "execution_count": 2,
   "metadata": {},
   "outputs": [
    {
     "data": {
      "image/png": "[encoded data removed]",
      "text/plain": [
       "<Figure size 432x288 with 1 Axes>"
      ]
     },
     "metadata": {
      "needs_background": "light"
     },
     "output_type": "display_data"
    }
   ],
   "source": [
    "import matplotlib.pyplot as plt\n",
    "%matplotlib inline\n",
    "plt.hist(x, bins=25)\n",
    "plt.show()"
   ]
  },
  {
   "cell_type": "code",
   "execution_count": 4,
   "metadata": {},
   "outputs": [
    {
     "data": {
      "image/png": "[encoded data removed]",
      "text/plain": [
       "<Figure size 432x288 with 1 Axes>"
      ]
     },
     "metadata": {
      "needs_background": "light"
     },
     "output_type": "display_data"
    },
    {
     "data": {
      "image/png": "[encoded data removed]",
      "text/plain": [
       "<Figure size 432x288 with 1 Axes>"
      ]
     },
     "metadata": {
      "needs_background": "light"
     },
     "output_type": "display_data"
    },
    {
     "name": "stdout",
     "output_type": "stream",
     "text": [
      "(1423,)\n"
     ]
    }
   ],
   "source": [
    "df = pd.read_csv(\"cricket.csv\")\n",
    "df[\"Run.Rate\"].hist(bins=20, color='steelblue', edgecolor='black', linewidth=1.0,\n",
    "           xlabelsize=8, ylabelsize=8, grid=False)    \n",
    "plt.tight_layout(rect=(0, 0, 1, 1))   \n",
    "plt.show()\n",
    "\n",
    "df[\"Run.Rate.Required\"].hist(bins=20, color='steelblue', edgecolor='black', linewidth=1.0,\n",
    "           xlabelsize=8, ylabelsize=8, grid=False)    \n",
    "plt.tight_layout(rect=(0, 0, 1, 1))   \n",
    "plt.show()\n",
    "\n",
    "# corr = df.corr()\n",
    "# corr.style.background_gradient(cmap=\"coolwarm\").set_precision(2)\n",
    "# plt.matshow(corr)\n",
    "# plt.show()\n",
    "unique, count = np.unique(df[\"Match\"], return_counts=True)\n",
    "print(unique.shape)"
   ]
  }
 ],
 "metadata": {
  "kernelspec": {
   "display_name": "Python 3",
   "language": "python",
   "name": "python3"
  },
  "language_info": {
   "codemirror_mode": {
    "name": "ipython",
    "version": 3
   },
   "file_extension": ".py",
   "mimetype": "text/x-python",
   "name": "python",
   "nbconvert_exporter": "python",
   "pygments_lexer": "ipython3",
   "version": "3.5.2"
  }
 },
 "nbformat": 4,
 "nbformat_minor": 2
}

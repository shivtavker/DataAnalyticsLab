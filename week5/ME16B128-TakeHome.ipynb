{
 "cells": [
  {
   "cell_type": "markdown",
   "metadata": {
    "colab_type": "text",
    "id": "MMWp3bQP-bhU"
   },
   "source": [
    "# Lab 5 - Classification : Naive Bayes and Logistic Regression"
   ]
  },
  {
   "cell_type": "markdown",
   "metadata": {
    "colab_type": "text",
    "id": "n-5YUdzFsqwL"
   },
   "source": [
    "# Optical recognition of handwritten digits dataset\n",
    "**Download dataset from sklearn. The dataset has 10 classes and 64 attributes (8x8 images). Visualise images from the dataset. Perform a train test split in the ratio 4:1.**"
   ]
  },
  {
   "cell_type": "code",
   "execution_count": 21,
   "metadata": {},
   "outputs": [],
   "source": [
    "import pandas as pd\n",
    "import numpy as np\n",
    "from sklearn.datasets import load_digits\n",
    "from sklearn.model_selection import train_test_split\n",
    "from sklearn.linear_model import LogisticRegression\n",
    "import matplotlib.pyplot as plt \n",
    "from sklearn.preprocessing import StandardScaler\n",
    "from sklearn.metrics import f1_score, confusion_matrix\n",
    "from sklearn.model_selection import GridSearchCV\n",
    "from sklearn.naive_bayes import BernoulliNB\n",
    "from sklearn.naive_bayes import GaussianNB\n",
    "from sklearn.naive_bayes import MultinomialNB\n",
    "from sklearn.naive_bayes import ComplementNB\n",
    "\n",
    "import warnings\n",
    "warnings.filterwarnings(\"ignore\")"
   ]
  },
  {
   "cell_type": "markdown",
   "metadata": {
    "colab_type": "text",
    "id": "6w_FSrzBE5pw"
   },
   "source": [
    "# Using sklearn (25 points)"
   ]
  },
  {
   "cell_type": "markdown",
   "metadata": {
    "colab_type": "text",
    "id": "ANyyLqRaE-RA"
   },
   "source": [
    "**For this exercise, you will use the naive bayes and logistic regression functions in sklearn. Use the optical recognition dataset.**\n",
    "\n",
    "\n",
    "**a) Logistic Regression - use one vs all classification method to classify the dataset into one of the ten classes. Report the accuracies in terms of F1 scores and the confusion matrix (use sklearn functions for this too). Tune parameters to obtain the best results.**\n",
    "\n",
    "**b) Naive Bayes - perform multiclass classification to classify the dataset into one of the ten classes. Experiment with all the priors available (Gaussian, Bernoulli, etc) and report the best prior. Report the accuracies in terms of F1 scores and the confusion matrix (use sklearn functions for this too).**\n",
    "\n",
    "**Estimated Time: 50 mins**"
   ]
  },
  {
   "cell_type": "markdown",
   "metadata": {},
   "source": [
    "## Dataset load and manipulations"
   ]
  },
  {
   "cell_type": "code",
   "execution_count": 22,
   "metadata": {},
   "outputs": [],
   "source": [
    "digits = load_digits()\n",
    "features = digits['data']\n",
    "target = digits['target'].reshape(-1,1)\n",
    "\n",
    "X_train, X_test, y_train, y_test = train_test_split(features,target,test_size = 0.2, random_state = 8)"
   ]
  },
  {
   "cell_type": "markdown",
   "metadata": {},
   "source": [
    "## Part - A Logistic"
   ]
  },
  {
   "cell_type": "code",
   "execution_count": 23,
   "metadata": {
    "colab": {},
    "colab_type": "code",
    "id": "EvL8quVdN24q"
   },
   "outputs": [
    {
     "name": "stdout",
     "output_type": "stream",
     "text": [
      "F1 Score: 0.9654826074386484\n",
      "\n",
      "Confusion Matrix: \n",
      "[[34  0  0  0  0  0  0  0  0  0]\n",
      " [ 0 34  0  0  0  0  0  0  3  0]\n",
      " [ 0  0 32  0  0  0  0  0  0  0]\n",
      " [ 0  0  0 37  0  1  0  0  0  0]\n",
      " [ 0  0  0  0 24  0  0  0  1  1]\n",
      " [ 1  0  0  0  0 48  0  0  0  0]\n",
      " [ 0  0  0  0  0  0 37  0  0  0]\n",
      " [ 0  0  0  0  0  0  0 40  0  0]\n",
      " [ 0  4  0  0  0  0  0  0 29  0]\n",
      " [ 0  0  0  1  0  0  0  0  0 33]]\n",
      "\n",
      "--------After Grid Search ---------\n",
      "F1 score: 0.9654826074386484\n",
      "Confusion Matrix: \n",
      "[[34  0  0  0  0  0  0  0  0  0]\n",
      " [ 0 34  0  0  0  0  0  0  3  0]\n",
      " [ 0  0 32  0  0  0  0  0  0  0]\n",
      " [ 0  0  0 37  0  1  0  0  0  0]\n",
      " [ 0  0  0  0 24  0  0  0  1  1]\n",
      " [ 1  0  0  0  0 48  0  0  0  0]\n",
      " [ 0  0  0  0  0  0 37  0  0  0]\n",
      " [ 0  0  0  0  0  0  0 40  0  0]\n",
      " [ 0  4  0  0  0  0  0  0 29  0]\n",
      " [ 0  0  0  1  0  0  0  0  0 33]]\n"
     ]
    }
   ],
   "source": [
    "scaler = StandardScaler()\n",
    "X_train_std = scaler.fit_transform(X_train)\n",
    "X_test_std = scaler.transform(X_test)\n",
    "log_reg = LogisticRegression(random_state=0, multi_class='ovr')\n",
    "log_reg.fit(X_train_std,y_train)\n",
    "\n",
    "y_train_pred = log_reg.predict(X_train_std)\n",
    "y_test_pred = log_reg.predict(X_test_std)\n",
    "\n",
    "print(\"F1 Score:\", f1_score(y_test_pred,y_test,average = 'macro'))\n",
    "print()\n",
    "\n",
    "print(\"Confusion Matrix: \")\n",
    "cm_test = confusion_matrix(y_test, y_test_pred)\n",
    "print(cm_test)\n",
    "\n",
    "## --------- Grid Search\n",
    "\n",
    "scaler = StandardScaler()\n",
    "features_scaled = scaler.fit_transform(features)\n",
    "parameters = {'C':[0.001, 0.01, 0.1, 1, 10, 100, 1000]}\n",
    "log_reg = LogisticRegression()\n",
    "grid = GridSearchCV(log_reg,parameters,cv=5)\n",
    "grid.fit(features_scaled,target)\n",
    "log_reg_tuned = grid.best_estimator_\n",
    "log_reg_tuned.fit(X_train_std,y_train)\n",
    "\n",
    "y_test_pred = log_reg_tuned.predict(X_test_std)\n",
    "print()\n",
    "print(\"--------After Grid Search ---------\")\n",
    "print(\"F1 score:\", f1_score(y_test_pred, y_test, average = 'macro'))\n",
    "cm_test = confusion_matrix(y_test, y_test_pred)\n",
    "print(\"Confusion Matrix: \")\n",
    "print(cm_test)"
   ]
  },
  {
   "cell_type": "markdown",
   "metadata": {},
   "source": [
    "## Part-B Naive Bayes"
   ]
  },
  {
   "cell_type": "code",
   "execution_count": 24,
   "metadata": {},
   "outputs": [
    {
     "name": "stdout",
     "output_type": "stream",
     "text": [
      "------ For BernoulliNB ----------\n",
      "\n",
      "F1 score: 0.8562102263595419\n",
      "\n",
      "Confusion Matrix: \n",
      "[[34  0  0  0  0  0  0  0  0  0]\n",
      " [ 0 26  3  0  0  0  0  0  6  2]\n",
      " [ 0  2 27  1  0  0  0  0  2  0]\n",
      " [ 1  0  1 32  0  1  0  1  0  2]\n",
      " [ 0  0  0  0 23  0  0  3  0  0]\n",
      " [ 1  1  0  0  0 38  0  0  2  7]\n",
      " [ 0  1  0  0  0  1 35  0  0  0]\n",
      " [ 0  0  0  0  2  0  0 38  0  0]\n",
      " [ 0  5  0  0  0  0  0  0 26  2]\n",
      " [ 0  1  0  1  1  0  0  2  0 29]]\n",
      "\n",
      "\n",
      "------ For MultinomialNB ----------\n",
      "\n",
      "F1 score: 0.8851273099587293\n",
      "\n",
      "Confusion Matrix: \n",
      "[[34  0  0  0  0  0  0  0  0  0]\n",
      " [ 0 31  1  0  0  1  1  0  0  3]\n",
      " [ 0  2 29  0  0  0  0  0  1  0]\n",
      " [ 0  0  1 33  0  0  0  1  0  3]\n",
      " [ 1  0  0  0 22  0  0  2  1  0]\n",
      " [ 0  0  0  0  0 38  0  0  2  9]\n",
      " [ 0  1  0  0  0  0 36  0  0  0]\n",
      " [ 0  0  0  0  0  0  0 40  0  0]\n",
      " [ 0  6  1  0  0  0  0  0 24  2]\n",
      " [ 0  0  0  0  0  0  0  2  1 31]]\n",
      "\n",
      "\n",
      "------ For GaussianNB ----------\n",
      "\n",
      "F1 score: 0.8156617394873047\n",
      "\n",
      "Confusion Matrix: \n",
      "[[34  0  0  0  0  0  0  0  0  0]\n",
      " [ 0 33  0  0  0  0  0  1  3  0]\n",
      " [ 0  5 15  0  0  0  0  0 12  0]\n",
      " [ 0  2  0 26  0  2  0  2  4  2]\n",
      " [ 1  0  0  0 19  1  0  3  2  0]\n",
      " [ 0  0  0  1  0 44  0  2  2  0]\n",
      " [ 0  1  0  0  0  0 36  0  0  0]\n",
      " [ 0  0  0  0  0  0  0 40  0  0]\n",
      " [ 0  9  0  0  0  0  0  0 24  0]\n",
      " [ 0  2  0  0  0  0  0  3  5 24]]\n",
      "\n",
      "\n",
      "------ For ComplementNB ----------\n",
      "\n",
      "F1 score: 0.8124006393145338\n",
      "\n",
      "Confusion Matrix: \n",
      "[[34  0  0  0  0  0  0  0  0  0]\n",
      " [ 0 26  3  0  0  1  1  2  0  4]\n",
      " [ 0  0 31  0  0  0  0  1  0  0]\n",
      " [ 1  0  2 29  0  0  2  4  0  0]\n",
      " [ 0  0  0  0 24  1  0  1  0  0]\n",
      " [ 0  0  0  0  0 43  0  2  0  4]\n",
      " [ 0  0  0  0  1  0 36  0  0  0]\n",
      " [ 0  0  0  0  2  0  0 38  0  0]\n",
      " [ 0  9  4  3  0  0  2  3 10  2]\n",
      " [ 2  0  1  1  0  0  0  3  0 27]]\n",
      "\n",
      "\n"
     ]
    }
   ],
   "source": [
    "bayes = [];\n",
    "\n",
    "bayes.append(BernoulliNB())\n",
    "bayes.append(MultinomialNB())\n",
    "bayes.append(GaussianNB())\n",
    "bayes.append(ComplementNB())\n",
    "\n",
    "names = [\"BernoulliNB\", \"MultinomialNB\", \"GaussianNB\", \"ComplementNB\"];\n",
    "i = 0;\n",
    "for naive_bayes in bayes:\n",
    "    naive_bayes.fit(X_train, y_train)\n",
    "    y_train_pred = naive_bayes.predict(X_train)\n",
    "    y_test_pred = naive_bayes.predict(X_test)\n",
    "    \n",
    "    print(\"------ For \" + names[i] + \" ----------\")\n",
    "    print()\n",
    "    \n",
    "    print(\"F1 score:\", f1_score(y_test_pred,y_test,average = 'macro'))\n",
    "    print()\n",
    "\n",
    "    print(\"Confusion Matrix: \")\n",
    "\n",
    "    cm_test = confusion_matrix(y_test, y_test_pred)\n",
    "    print(cm_test)\n",
    "    i += 1;\n",
    "    print()\n",
    "    print()"
   ]
  },
  {
   "cell_type": "markdown",
   "metadata": {
    "colab_type": "text",
    "id": "oli7OP9XN4ZF"
   },
   "source": [
    "### Best Prior\n",
    "- We see that MultinomialNB gives us the best F1 Score = 0.8851"
   ]
  },
  {
   "cell_type": "markdown",
   "metadata": {
    "colab_type": "text",
    "id": "Aiq6KaGLOAba"
   },
   "source": [
    "# The End"
   ]
  }
 ],
 "metadata": {
  "colab": {
   "collapsed_sections": [],
   "name": "Lab5_DataAnalytics.ipynb",
   "provenance": [],
   "version": "0.3.2"
  },
  "kernelspec": {
   "display_name": "Python 3",
   "language": "python",
   "name": "python3"
  },
  "language_info": {
   "codemirror_mode": {
    "name": "ipython",
    "version": 3
   },
   "file_extension": ".py",
   "mimetype": "text/x-python",
   "name": "python",
   "nbconvert_exporter": "python",
   "pygments_lexer": "ipython3",
   "version": "3.7.3"
  }
 },
 "nbformat": 4,
 "nbformat_minor": 1
}

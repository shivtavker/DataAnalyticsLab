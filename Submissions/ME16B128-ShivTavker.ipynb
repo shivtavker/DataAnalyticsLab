{
 "cells": [
  {
   "cell_type": "markdown",
   "metadata": {},
   "source": [
    "# Python Basic Exercises"
   ]
  },
  {
   "cell_type": "markdown",
   "metadata": {},
   "source": [
    "1) Create a function that acts as a simple calculator with operations addition, subtraction, multiplication and division.\n",
    "\n",
    "If the operation is not speciﬁed, default to multiplication. If the operation is misspecified, return an error message.\n",
    "        \n",
    "        Ex: \n",
    "calculator(3,5,\"multiply\") returns 15 \n",
    "\n",
    "calculator(3,5) returns 15  \n",
    "\n",
    "calculator(3, 5, \"something\") returns error message.\n",
    "\n",
    "\n",
    "\n",
    "\n",
    "\n"
   ]
  },
  {
   "cell_type": "code",
   "execution_count": 3,
   "metadata": {},
   "outputs": [],
   "source": [
    "def calculator(a, b, operation=\"multiply\"):\n",
    "    if(operation == \"multiply\"):\n",
    "        return a*b\n",
    "    elif(operation == \"addition\"):\n",
    "        return a+b\n",
    "    elif(operation == \"subtraction\"):\n",
    "        return a-b\n",
    "    elif(operation == \"division\"):\n",
    "        return a/b\n",
    "    else:\n",
    "        return \"The operation is misspecified\""
   ]
  },
  {
   "cell_type": "markdown",
   "metadata": {},
   "source": [
    "2) a) Given a list of numbers, return a list where all adjacent duplicate elements have been removed.\n",
    "\n",
    "Ex:\n",
    "\n",
    "[2, 2, 2, 3, 2] returns [ 2, 3, 2]. "
   ]
  },
  {
   "cell_type": "code",
   "execution_count": 2,
   "metadata": {},
   "outputs": [],
   "source": [
    "def remove_adjacent_duplicate(array):\n",
    "    answer_array = [array[0]]\n",
    "    for i in range(1, len(array)):\n",
    "        if(array[i] == array[i-1]):\n",
    "            continue\n",
    "        answer_array.append(array[i])\n",
    "    return answer_array"
   ]
  },
  {
   "cell_type": "markdown",
   "metadata": {},
   "source": [
    "b) Remove all duplicate values (adjacent or not)\n",
    "\n",
    "Ex:\n",
    "\n",
    "[1, 2, 2, 3, 2,3,1] returns [1, 2, 3] "
   ]
  },
  {
   "cell_type": "code",
   "execution_count": 1,
   "metadata": {},
   "outputs": [],
   "source": [
    "def remove_all_duplicates(array):\n",
    "    dict_array = {}\n",
    "    for number in array:\n",
    "        dict_array[number] = True\n",
    "    return list(dict_array.keys())"
   ]
  },
  {
   "cell_type": "markdown",
   "metadata": {},
   "source": [
    "3) Given the array:  X= np.random.randn(3,5)   \\# creates random normals in 3x5 array\n",
    "\n",
    "For each column find the row index of the maximum value using loop.\n"
   ]
  },
  {
   "cell_type": "code",
   "execution_count": 4,
   "metadata": {},
   "outputs": [
    {
     "name": "stdout",
     "output_type": "stream",
     "text": [
      "3x5 Matrix: \n",
      "[[ 0.97072327 -1.52501288  0.28762928 -1.14058457  0.97559074]\n",
      " [-1.41260264 -2.37008293  1.05659398 -0.06194021  1.62504534]\n",
      " [ 0.52621707  0.23654016  0.7368457  -0.39455554 -1.35576766]]\n",
      "Max value row index: \n",
      "[0, 2, 1, 1, 1]\n"
     ]
    }
   ],
   "source": [
    "import numpy as np\n",
    "\n",
    "def find_row_max(matrix):\n",
    "    answer_array = []\n",
    "    for i in range(len(matrix[0])):\n",
    "        max_value = matrix[0][i]\n",
    "        max_index = 0\n",
    "        for j in range(len(matrix)):\n",
    "            if(matrix[j][i] > max_value):\n",
    "                max_value = matrix[j][i]\n",
    "                max_index = j\n",
    "        answer_array.append(max_index)\n",
    "    return answer_array\n",
    "\n",
    "print(\"3x5 Matrix: \")\n",
    "A = np.random.randn(3, 5)\n",
    "print(A)\n",
    "print(\"Max value row index: \")\n",
    "print(find_row_max(A))"
   ]
  },
  {
   "cell_type": "markdown",
   "metadata": {},
   "source": [
    "4) Get csv from the following link,\n",
    "https://raw.github.com/neurospin/pystatsml/master/datasets/salary_table.csv\n",
    "\n",
    "Create table from the csv file.\n",
    "\n",
    "Check for missing data and remove those entries from the table."
   ]
  },
  {
   "cell_type": "code",
   "execution_count": 9,
   "metadata": {},
   "outputs": [],
   "source": [
    "import pandas as pd\n",
    "import random\n",
    "import numpy as np\n",
    "table = pd.read_csv('salary_table.csv')\n",
    "for i in range(8):\n",
    "    table.loc[random.randint(2, 44), 'salary'] = np.nan\n",
    "table.dropna(inplace = True)"
   ]
  },
  {
   "cell_type": "markdown",
   "metadata": {},
   "source": [
    "6) Use the file data.txt. Read, the ﬁle and count the occurrences of each word within the ﬁle. Store the words’ occurrence number in a dictionary. "
   ]
  },
  {
   "cell_type": "code",
   "execution_count": 10,
   "metadata": {},
   "outputs": [
    {
     "name": "stdout",
     "output_type": "stream",
     "text": [
      "{'data': 4, 'analysis': 3, 'is': 2, 'a': 3, 'process': 1, 'of': 3, 'inspecting': 1, 'cleansing': 1, 'transforming': 1, 'and': 6, 'modeling': 1, 'with': 1, 'the': 1, 'goal': 1, 'discovering': 1, 'useful': 1, 'information': 1, 'informing': 1, 'conclusions': 1, 'supporting': 1, 'decision-making': 1, 'has': 1, 'multiple': 1, 'facets': 1, 'approaches': 1, 'encompassing': 1, 'diverse': 1, 'techniques': 1, 'under': 1, 'variety': 1, 'names': 1, 'used': 1, 'in': 3, 'different': 1, 'business': 2, 'science': 2, 'social': 1, 'domains': 1, \"today's\": 1, 'world': 1, 'plays': 1, 'role': 1, 'making': 1, 'decisions': 1, 'more': 2, 'scientific': 1, 'helping': 1, 'businesses': 1, 'operate': 1, 'effectively': 1}\n"
     ]
    }
   ],
   "source": [
    "word_dict = {}\n",
    "\n",
    "with open('text.txt','r') as f:\n",
    "    for line in f:\n",
    "        for word in line.split():\n",
    "            curr_word = word.replace(\",\", \"\")\n",
    "            curr_word = curr_word.replace(\".\", \"\")\n",
    "            curr_word = curr_word.lower()\n",
    "            if(curr_word not in word_dict):\n",
    "                word_dict[curr_word] = 1\n",
    "            else:\n",
    "                word_dict[curr_word] += 1\n",
    "\n",
    "print(word_dict)\n",
    "           "
   ]
  },
  {
   "cell_type": "code",
   "execution_count": null,
   "metadata": {},
   "outputs": [],
   "source": []
  }
 ],
 "metadata": {
  "kernelspec": {
   "display_name": "Python 3",
   "language": "python",
   "name": "python3"
  },
  "language_info": {
   "codemirror_mode": {
    "name": "ipython",
    "version": 3
   },
   "file_extension": ".py",
   "mimetype": "text/x-python",
   "name": "python",
   "nbconvert_exporter": "python",
   "pygments_lexer": "ipython3",
   "version": "3.7.3"
  }
 },
 "nbformat": 4,
 "nbformat_minor": 2
}
